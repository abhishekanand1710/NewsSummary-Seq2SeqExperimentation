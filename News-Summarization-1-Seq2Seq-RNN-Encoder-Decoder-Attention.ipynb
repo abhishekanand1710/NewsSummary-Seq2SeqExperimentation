{
 "cells": [
  {
   "cell_type": "markdown",
   "id": "715870fc",
   "metadata": {
    "papermill": {
     "duration": 0.012275,
     "end_time": "2023-04-15T15:27:23.718517",
     "exception": false,
     "start_time": "2023-04-15T15:27:23.706242",
     "status": "completed"
    },
    "tags": []
   },
   "source": [
    "# Introduction\n",
    "\n",
    "This is an implementation for Sequence to Sequence Encoder - Decoder Model (with Attention) using GRU trained for the task of News Summarisation. It is based on the paper - [Neural Machine Translation by Jointly Learning to Align and Translate](https://arxiv.org/abs/1409.0473). Refer [notebook](https://github.com/abhishekanand1710/Seq2Seq-EncoderDecoder/blob/main/Seq2Seq-2-RNN-Encoder-Decoder-Attention.ipynb) for more details and explanation.\n",
    "\n",
    "It is implemented as an excerise to gain a deeper understanding of Encoder - Decoder models and build on it to explore advancements on the same.\n",
    "\n",
    "Dataset used - [CNN-dailymail](https://www.kaggle.com/datasets/gowrishankarp/newspaper-text-summarization-cnn-dailymail)"
   ]
  },
  {
   "cell_type": "code",
   "execution_count": 1,
   "id": "117ded7c",
   "metadata": {
    "_cell_guid": "b1076dfc-b9ad-4769-8c92-a6c4dae69d19",
    "_uuid": "8f2839f25d086af736a60e9eeb907d3b93b6e0e5",
    "execution": {
     "iopub.execute_input": "2023-04-15T15:27:23.743597Z",
     "iopub.status.busy": "2023-04-15T15:27:23.742748Z",
     "iopub.status.idle": "2023-04-15T15:27:47.046560Z",
     "shell.execute_reply": "2023-04-15T15:27:47.045413Z"
    },
    "papermill": {
     "duration": 23.319396,
     "end_time": "2023-04-15T15:27:47.049462",
     "exception": false,
     "start_time": "2023-04-15T15:27:23.730066",
     "status": "completed"
    },
    "tags": []
   },
   "outputs": [
    {
     "name": "stdout",
     "output_type": "stream",
     "text": [
      "[nltk_data] Downloading package stopwords to /usr/share/nltk_data...\n",
      "[nltk_data]   Package stopwords is already up-to-date!\n",
      "/kaggle/input/newspaper-text-summarization-cnn-dailymail/cnn_dailymail/validation.csv\n",
      "/kaggle/input/newspaper-text-summarization-cnn-dailymail/cnn_dailymail/train.csv\n",
      "/kaggle/input/newspaper-text-summarization-cnn-dailymail/cnn_dailymail/test.csv\n"
     ]
    }
   ],
   "source": [
    "import numpy as np\n",
    "import pandas as pd\n",
    "import spacy\n",
    "from tqdm import tqdm\n",
    "\n",
    "\n",
    "from string import digits\n",
    "import random\n",
    "from torchtext.data.utils import get_tokenizer\n",
    "import torch\n",
    "import torchtext\n",
    "from collections import Counter\n",
    "from torchtext.vocab import vocab\n",
    "from torch.nn.utils.rnn import pad_sequence\n",
    "from torch.utils.data import DataLoader\n",
    "import torch.optim as optim\n",
    "import torch.nn as nn\n",
    "torch.cuda.empty_cache()\n",
    "\n",
    "import nltk\n",
    "nltk.download('stopwords')\n",
    "from nltk.corpus import stopwords\n",
    "\n",
    "import math\n",
    "import time\n",
    "import re\n",
    "\n",
    "import os\n",
    "for dirname, _, filenames in os.walk('/kaggle/input'):\n",
    "    for filename in filenames:\n",
    "        print(os.path.join(dirname, filename))\n"
   ]
  },
  {
   "cell_type": "code",
   "execution_count": 2,
   "id": "838abb29",
   "metadata": {
    "execution": {
     "iopub.execute_input": "2023-04-15T15:27:47.076343Z",
     "iopub.status.busy": "2023-04-15T15:27:47.074360Z",
     "iopub.status.idle": "2023-04-15T15:27:47.083015Z",
     "shell.execute_reply": "2023-04-15T15:27:47.082133Z"
    },
    "papermill": {
     "duration": 0.022935,
     "end_time": "2023-04-15T15:27:47.085129",
     "exception": false,
     "start_time": "2023-04-15T15:27:47.062194",
     "status": "completed"
    },
    "tags": []
   },
   "outputs": [],
   "source": [
    "SEED = 97\n",
    "\n",
    "random.seed(SEED)\n",
    "np.random.seed(SEED)\n",
    "torch.manual_seed(SEED)\n",
    "torch.cuda.manual_seed(SEED)\n",
    "torch.backends.cudnn.deterministic = True"
   ]
  },
  {
   "cell_type": "code",
   "execution_count": 3,
   "id": "fdadb92f",
   "metadata": {
    "execution": {
     "iopub.execute_input": "2023-04-15T15:27:47.108810Z",
     "iopub.status.busy": "2023-04-15T15:27:47.108005Z",
     "iopub.status.idle": "2023-04-15T15:28:12.855121Z",
     "shell.execute_reply": "2023-04-15T15:28:12.853776Z"
    },
    "papermill": {
     "duration": 25.762229,
     "end_time": "2023-04-15T15:28:12.858353",
     "exception": false,
     "start_time": "2023-04-15T15:27:47.096124",
     "status": "completed"
    },
    "tags": []
   },
   "outputs": [],
   "source": [
    "df_train = pd.read_csv(\"/kaggle/input/newspaper-text-summarization-cnn-dailymail/cnn_dailymail/train.csv\").drop(columns=\"id\")\n",
    "df_test = pd.read_csv(\"/kaggle/input/newspaper-text-summarization-cnn-dailymail/cnn_dailymail/test.csv\").drop(columns=\"id\")\n",
    "df_valid = pd.read_csv(\"/kaggle/input/newspaper-text-summarization-cnn-dailymail/cnn_dailymail/validation.csv\").drop(columns=\"id\")"
   ]
  },
  {
   "cell_type": "code",
   "execution_count": 4,
   "id": "38f72683",
   "metadata": {
    "execution": {
     "iopub.execute_input": "2023-04-15T15:28:12.917379Z",
     "iopub.status.busy": "2023-04-15T15:28:12.916734Z",
     "iopub.status.idle": "2023-04-15T15:28:17.532620Z",
     "shell.execute_reply": "2023-04-15T15:28:17.531617Z"
    },
    "papermill": {
     "duration": 4.637678,
     "end_time": "2023-04-15T15:28:17.535449",
     "exception": false,
     "start_time": "2023-04-15T15:28:12.897771",
     "status": "completed"
    },
    "tags": []
   },
   "outputs": [],
   "source": [
    "df_train = df_train.dropna().drop_duplicates().reset_index()\n",
    "df_valid = df_valid.dropna().drop_duplicates().reset_index()\n",
    "df_test = df_test.dropna().drop_duplicates().reset_index()"
   ]
  },
  {
   "cell_type": "code",
   "execution_count": 5,
   "id": "3a8566f9",
   "metadata": {
    "execution": {
     "iopub.execute_input": "2023-04-15T15:28:17.560847Z",
     "iopub.status.busy": "2023-04-15T15:28:17.559306Z",
     "iopub.status.idle": "2023-04-15T15:28:17.568376Z",
     "shell.execute_reply": "2023-04-15T15:28:17.567279Z"
    },
    "papermill": {
     "duration": 0.024277,
     "end_time": "2023-04-15T15:28:17.571296",
     "exception": false,
     "start_time": "2023-04-15T15:28:17.547019",
     "status": "completed"
    },
    "tags": []
   },
   "outputs": [
    {
     "data": {
      "text/plain": [
       "(284015, 11488, 13368)"
      ]
     },
     "execution_count": 5,
     "metadata": {},
     "output_type": "execute_result"
    }
   ],
   "source": [
    "len(df_train), len(df_test), len(df_valid)"
   ]
  },
  {
   "cell_type": "code",
   "execution_count": 6,
   "id": "cc978a97",
   "metadata": {
    "execution": {
     "iopub.execute_input": "2023-04-15T15:28:17.594782Z",
     "iopub.status.busy": "2023-04-15T15:28:17.594463Z",
     "iopub.status.idle": "2023-04-15T15:28:17.604893Z",
     "shell.execute_reply": "2023-04-15T15:28:17.603908Z"
    },
    "papermill": {
     "duration": 0.02497,
     "end_time": "2023-04-15T15:28:17.607301",
     "exception": false,
     "start_time": "2023-04-15T15:28:17.582331",
     "status": "completed"
    },
    "tags": []
   },
   "outputs": [],
   "source": [
    "contractions = { \n",
    "\"ain't\": \"am not\",\n",
    "\"aren't\": \"are not\",\n",
    "\"can't\": \"cannot\",\n",
    "\"can't've\": \"cannot have\",\n",
    "\"'cause\": \"because\",\n",
    "\"could've\": \"could have\",\n",
    "\"couldn't\": \"could not\",\n",
    "\"couldn't've\": \"could not have\",\n",
    "\"didn't\": \"did not\",\n",
    "\"doesn't\": \"does not\",\n",
    "\"don't\": \"do not\",\n",
    "\"hadn't\": \"had not\",\n",
    "\"hadn't've\": \"had not have\",\n",
    "\"hasn't\": \"has not\",\n",
    "\"haven't\": \"have not\",\n",
    "\"he'd\": \"he would\",\n",
    "\"he'd've\": \"he would have\",\n",
    "\"he'll\": \"he will\",\n",
    "\"he's\": \"he is\",\n",
    "\"how'd\": \"how did\",\n",
    "\"how'll\": \"how will\",\n",
    "\"how's\": \"how is\",\n",
    "\"i'd\": \"i would\",\n",
    "\"i'll\": \"i will\",\n",
    "\"i'm\": \"i am\",\n",
    "\"i've\": \"i have\",\n",
    "\"isn't\": \"is not\",\n",
    "\"it'd\": \"it would\",\n",
    "\"it'll\": \"it will\",\n",
    "\"it's\": \"it is\",\n",
    "\"let's\": \"let us\",\n",
    "\"ma'am\": \"madam\",\n",
    "\"mayn't\": \"may not\",\n",
    "\"might've\": \"might have\",\n",
    "\"mightn't\": \"might not\",\n",
    "\"must've\": \"must have\",\n",
    "\"mustn't\": \"must not\",\n",
    "\"needn't\": \"need not\",\n",
    "\"oughtn't\": \"ought not\",\n",
    "\"shan't\": \"shall not\",\n",
    "\"sha'n't\": \"shall not\",\n",
    "\"she'd\": \"she would\",\n",
    "\"she'll\": \"she will\",\n",
    "\"she's\": \"she is\",\n",
    "\"should've\": \"should have\",\n",
    "\"shouldn't\": \"should not\",\n",
    "\"that'd\": \"that would\",\n",
    "\"that's\": \"that is\",\n",
    "\"there'd\": \"there had\",\n",
    "\"there's\": \"there is\",\n",
    "\"they'd\": \"they would\",\n",
    "\"they'll\": \"they will\",\n",
    "\"they're\": \"they are\",\n",
    "\"they've\": \"they have\",\n",
    "\"wasn't\": \"was not\",\n",
    "\"we'd\": \"we would\",\n",
    "\"we'll\": \"we will\",\n",
    "\"we're\": \"we are\",\n",
    "\"we've\": \"we have\",\n",
    "\"weren't\": \"were not\",\n",
    "\"what'll\": \"what will\",\n",
    "\"what're\": \"what are\",\n",
    "\"what's\": \"what is\",\n",
    "\"what've\": \"what have\",\n",
    "\"where'd\": \"where did\",\n",
    "\"where's\": \"where is\",\n",
    "\"who'll\": \"who will\",\n",
    "\"who's\": \"who is\",\n",
    "\"won't\": \"will not\",\n",
    "\"wouldn't\": \"would not\",\n",
    "\"you'd\": \"you would\",\n",
    "\"you'll\": \"you will\",\n",
    "\"you're\": \"you are\"\n",
    "}"
   ]
  },
  {
   "cell_type": "code",
   "execution_count": 7,
   "id": "d681e943",
   "metadata": {
    "_kg_hide-output": true,
    "execution": {
     "iopub.execute_input": "2023-04-15T15:28:17.631112Z",
     "iopub.status.busy": "2023-04-15T15:28:17.630561Z",
     "iopub.status.idle": "2023-04-15T15:29:18.145595Z",
     "shell.execute_reply": "2023-04-15T15:29:18.144350Z"
    },
    "papermill": {
     "duration": 60.529884,
     "end_time": "2023-04-15T15:29:18.148332",
     "exception": false,
     "start_time": "2023-04-15T15:28:17.618448",
     "status": "completed"
    },
    "tags": []
   },
   "outputs": [
    {
     "name": "stdout",
     "output_type": "stream",
     "text": [
      "Collecting en-core-web-lg==3.5.0\r\n",
      "  Downloading https://github.com/explosion/spacy-models/releases/download/en_core_web_lg-3.5.0/en_core_web_lg-3.5.0-py3-none-any.whl (587.7 MB)\r\n",
      "\u001b[2K     \u001b[90m━━━━━━━━━━━━━━━━━━━━━━━━━━━━━━━━━━━━━━━\u001b[0m \u001b[32m587.7/587.7 MB\u001b[0m \u001b[31m1.6 MB/s\u001b[0m eta \u001b[36m0:00:00\u001b[0m\r\n",
      "\u001b[?25hRequirement already satisfied: spacy<3.6.0,>=3.5.0 in /opt/conda/lib/python3.7/site-packages (from en-core-web-lg==3.5.0) (3.5.1)\r\n",
      "Requirement already satisfied: wasabi<1.2.0,>=0.9.1 in /opt/conda/lib/python3.7/site-packages (from spacy<3.6.0,>=3.5.0->en-core-web-lg==3.5.0) (1.1.1)\r\n",
      "Requirement already satisfied: thinc<8.2.0,>=8.1.8 in /opt/conda/lib/python3.7/site-packages (from spacy<3.6.0,>=3.5.0->en-core-web-lg==3.5.0) (8.1.9)\r\n",
      "Requirement already satisfied: tqdm<5.0.0,>=4.38.0 in /opt/conda/lib/python3.7/site-packages (from spacy<3.6.0,>=3.5.0->en-core-web-lg==3.5.0) (4.64.1)\r\n",
      "Requirement already satisfied: srsly<3.0.0,>=2.4.3 in /opt/conda/lib/python3.7/site-packages (from spacy<3.6.0,>=3.5.0->en-core-web-lg==3.5.0) (2.4.6)\r\n",
      "Requirement already satisfied: jinja2 in /opt/conda/lib/python3.7/site-packages (from spacy<3.6.0,>=3.5.0->en-core-web-lg==3.5.0) (3.1.2)\r\n",
      "Requirement already satisfied: typer<0.8.0,>=0.3.0 in /opt/conda/lib/python3.7/site-packages (from spacy<3.6.0,>=3.5.0->en-core-web-lg==3.5.0) (0.7.0)\r\n",
      "Requirement already satisfied: setuptools in /opt/conda/lib/python3.7/site-packages (from spacy<3.6.0,>=3.5.0->en-core-web-lg==3.5.0) (59.8.0)\r\n",
      "Requirement already satisfied: preshed<3.1.0,>=3.0.2 in /opt/conda/lib/python3.7/site-packages (from spacy<3.6.0,>=3.5.0->en-core-web-lg==3.5.0) (3.0.8)\r\n",
      "Requirement already satisfied: spacy-legacy<3.1.0,>=3.0.11 in /opt/conda/lib/python3.7/site-packages (from spacy<3.6.0,>=3.5.0->en-core-web-lg==3.5.0) (3.0.12)\r\n",
      "Requirement already satisfied: pydantic!=1.8,!=1.8.1,<1.11.0,>=1.7.4 in /opt/conda/lib/python3.7/site-packages (from spacy<3.6.0,>=3.5.0->en-core-web-lg==3.5.0) (1.10.4)\r\n",
      "Requirement already satisfied: catalogue<2.1.0,>=2.0.6 in /opt/conda/lib/python3.7/site-packages (from spacy<3.6.0,>=3.5.0->en-core-web-lg==3.5.0) (2.0.8)\r\n",
      "Requirement already satisfied: spacy-loggers<2.0.0,>=1.0.0 in /opt/conda/lib/python3.7/site-packages (from spacy<3.6.0,>=3.5.0->en-core-web-lg==3.5.0) (1.0.4)\r\n",
      "Requirement already satisfied: smart-open<7.0.0,>=5.2.1 in /opt/conda/lib/python3.7/site-packages (from spacy<3.6.0,>=3.5.0->en-core-web-lg==3.5.0) (6.3.0)\r\n",
      "Requirement already satisfied: cymem<2.1.0,>=2.0.2 in /opt/conda/lib/python3.7/site-packages (from spacy<3.6.0,>=3.5.0->en-core-web-lg==3.5.0) (2.0.7)\r\n",
      "Requirement already satisfied: pathy>=0.10.0 in /opt/conda/lib/python3.7/site-packages (from spacy<3.6.0,>=3.5.0->en-core-web-lg==3.5.0) (0.10.1)\r\n",
      "Requirement already satisfied: requests<3.0.0,>=2.13.0 in /opt/conda/lib/python3.7/site-packages (from spacy<3.6.0,>=3.5.0->en-core-web-lg==3.5.0) (2.28.2)\r\n",
      "Requirement already satisfied: packaging>=20.0 in /opt/conda/lib/python3.7/site-packages (from spacy<3.6.0,>=3.5.0->en-core-web-lg==3.5.0) (23.0)\r\n",
      "Requirement already satisfied: numpy>=1.15.0 in /opt/conda/lib/python3.7/site-packages (from spacy<3.6.0,>=3.5.0->en-core-web-lg==3.5.0) (1.21.6)\r\n",
      "Requirement already satisfied: typing-extensions<4.5.0,>=3.7.4.1 in /opt/conda/lib/python3.7/site-packages (from spacy<3.6.0,>=3.5.0->en-core-web-lg==3.5.0) (4.4.0)\r\n",
      "Requirement already satisfied: langcodes<4.0.0,>=3.2.0 in /opt/conda/lib/python3.7/site-packages (from spacy<3.6.0,>=3.5.0->en-core-web-lg==3.5.0) (3.3.0)\r\n",
      "Requirement already satisfied: murmurhash<1.1.0,>=0.28.0 in /opt/conda/lib/python3.7/site-packages (from spacy<3.6.0,>=3.5.0->en-core-web-lg==3.5.0) (1.0.9)\r\n",
      "Requirement already satisfied: zipp>=0.5 in /opt/conda/lib/python3.7/site-packages (from catalogue<2.1.0,>=2.0.6->spacy<3.6.0,>=3.5.0->en-core-web-lg==3.5.0) (3.11.0)\r\n",
      "Requirement already satisfied: urllib3<1.27,>=1.21.1 in /opt/conda/lib/python3.7/site-packages (from requests<3.0.0,>=2.13.0->spacy<3.6.0,>=3.5.0->en-core-web-lg==3.5.0) (1.26.14)\r\n",
      "Requirement already satisfied: idna<4,>=2.5 in /opt/conda/lib/python3.7/site-packages (from requests<3.0.0,>=2.13.0->spacy<3.6.0,>=3.5.0->en-core-web-lg==3.5.0) (3.4)\r\n",
      "Requirement already satisfied: certifi>=2017.4.17 in /opt/conda/lib/python3.7/site-packages (from requests<3.0.0,>=2.13.0->spacy<3.6.0,>=3.5.0->en-core-web-lg==3.5.0) (2022.12.7)\r\n",
      "Requirement already satisfied: charset-normalizer<4,>=2 in /opt/conda/lib/python3.7/site-packages (from requests<3.0.0,>=2.13.0->spacy<3.6.0,>=3.5.0->en-core-web-lg==3.5.0) (2.1.1)\r\n",
      "Requirement already satisfied: blis<0.8.0,>=0.7.8 in /opt/conda/lib/python3.7/site-packages (from thinc<8.2.0,>=8.1.8->spacy<3.6.0,>=3.5.0->en-core-web-lg==3.5.0) (0.7.9)\r\n",
      "Requirement already satisfied: confection<1.0.0,>=0.0.1 in /opt/conda/lib/python3.7/site-packages (from thinc<8.2.0,>=8.1.8->spacy<3.6.0,>=3.5.0->en-core-web-lg==3.5.0) (0.0.4)\r\n",
      "Requirement already satisfied: click<9.0.0,>=7.1.1 in /opt/conda/lib/python3.7/site-packages (from typer<0.8.0,>=0.3.0->spacy<3.6.0,>=3.5.0->en-core-web-lg==3.5.0) (8.1.3)\r\n",
      "Requirement already satisfied: MarkupSafe>=2.0 in /opt/conda/lib/python3.7/site-packages (from jinja2->spacy<3.6.0,>=3.5.0->en-core-web-lg==3.5.0) (2.1.1)\r\n",
      "Requirement already satisfied: importlib-metadata in /opt/conda/lib/python3.7/site-packages (from click<9.0.0,>=7.1.1->typer<0.8.0,>=0.3.0->spacy<3.6.0,>=3.5.0->en-core-web-lg==3.5.0) (4.11.4)\r\n",
      "\u001b[33mWARNING: Running pip as the 'root' user can result in broken permissions and conflicting behaviour with the system package manager. It is recommended to use a virtual environment instead: https://pip.pypa.io/warnings/venv\u001b[0m\u001b[33m\r\n",
      "\u001b[0m\u001b[38;5;2m✔ Download and installation successful\u001b[0m\r\n",
      "You can now load the package via spacy.load('en_core_web_lg')\r\n"
     ]
    }
   ],
   "source": [
    "!python -m spacy download en_core_web_lg"
   ]
  },
  {
   "cell_type": "code",
   "execution_count": 8,
   "id": "2e0f2a7b",
   "metadata": {
    "execution": {
     "iopub.execute_input": "2023-04-15T15:29:18.237741Z",
     "iopub.status.busy": "2023-04-15T15:29:18.236604Z",
     "iopub.status.idle": "2023-04-15T15:29:22.249151Z",
     "shell.execute_reply": "2023-04-15T15:29:22.248106Z"
    },
    "papermill": {
     "duration": 4.059897,
     "end_time": "2023-04-15T15:29:22.251963",
     "exception": false,
     "start_time": "2023-04-15T15:29:18.192066",
     "status": "completed"
    },
    "tags": []
   },
   "outputs": [],
   "source": [
    "tokenizer = get_tokenizer('spacy', language='en_core_web_lg')"
   ]
  },
  {
   "cell_type": "code",
   "execution_count": 9,
   "id": "39a05906",
   "metadata": {
    "execution": {
     "iopub.execute_input": "2023-04-15T15:29:22.338054Z",
     "iopub.status.busy": "2023-04-15T15:29:22.337187Z",
     "iopub.status.idle": "2023-04-15T15:29:33.313686Z",
     "shell.execute_reply": "2023-04-15T15:29:33.312625Z"
    },
    "papermill": {
     "duration": 11.022028,
     "end_time": "2023-04-15T15:29:33.316025",
     "exception": false,
     "start_time": "2023-04-15T15:29:22.293997",
     "status": "completed"
    },
    "tags": []
   },
   "outputs": [
    {
     "data": {
      "text/plain": [
       "<AxesSubplot:>"
      ]
     },
     "execution_count": 9,
     "metadata": {},
     "output_type": "execute_result"
    },
    {
     "data": {
      "image/png": "[encoded data removed]",
      "text/plain": [
       "<Figure size 640x480 with 1 Axes>"
      ]
     },
     "metadata": {},
     "output_type": "display_data"
    }
   ],
   "source": [
    "df_train['article'].map(lambda x: len(x.split(' '))).hist()"
   ]
  },
  {
   "cell_type": "code",
   "execution_count": 10,
   "id": "c97759e5",
   "metadata": {
    "execution": {
     "iopub.execute_input": "2023-04-15T15:29:33.409873Z",
     "iopub.status.busy": "2023-04-15T15:29:33.408810Z",
     "iopub.status.idle": "2023-04-15T15:29:34.445894Z",
     "shell.execute_reply": "2023-04-15T15:29:34.444929Z"
    },
    "papermill": {
     "duration": 1.086733,
     "end_time": "2023-04-15T15:29:34.448162",
     "exception": false,
     "start_time": "2023-04-15T15:29:33.361429",
     "status": "completed"
    },
    "tags": []
   },
   "outputs": [
    {
     "data": {
      "text/plain": [
       "<AxesSubplot:>"
      ]
     },
     "execution_count": 10,
     "metadata": {},
     "output_type": "execute_result"
    },
    {
     "data": {
      "image/png": "[encoded data removed]",
      "text/plain": [
       "<Figure size 640x480 with 1 Axes>"
      ]
     },
     "metadata": {},
     "output_type": "display_data"
    }
   ],
   "source": [
    "df_train['highlights'].map(lambda x: len(x.split(' '))).hist()"
   ]
  },
  {
   "cell_type": "code",
   "execution_count": 11,
   "id": "bb5f6ae8",
   "metadata": {
    "execution": {
     "iopub.execute_input": "2023-04-15T15:29:34.540649Z",
     "iopub.status.busy": "2023-04-15T15:29:34.539593Z",
     "iopub.status.idle": "2023-04-15T15:29:34.544360Z",
     "shell.execute_reply": "2023-04-15T15:29:34.543690Z"
    },
    "papermill": {
     "duration": 0.05207,
     "end_time": "2023-04-15T15:29:34.546342",
     "exception": false,
     "start_time": "2023-04-15T15:29:34.494272",
     "status": "completed"
    },
    "tags": []
   },
   "outputs": [],
   "source": [
    "MAX_ARTICLE_LEN=1024\n",
    "MAX_HIGHLIGHT_LEN=256"
   ]
  },
  {
   "cell_type": "code",
   "execution_count": 12,
   "id": "245b7e61",
   "metadata": {
    "execution": {
     "iopub.execute_input": "2023-04-15T15:29:34.636177Z",
     "iopub.status.busy": "2023-04-15T15:29:34.635455Z",
     "iopub.status.idle": "2023-04-15T15:29:34.640935Z",
     "shell.execute_reply": "2023-04-15T15:29:34.640011Z"
    },
    "papermill": {
     "duration": 0.051798,
     "end_time": "2023-04-15T15:29:34.642943",
     "exception": false,
     "start_time": "2023-04-15T15:29:34.591145",
     "status": "completed"
    },
    "tags": []
   },
   "outputs": [],
   "source": [
    "check_len_article = lambda x: len(x.split(' ')) > MAX_ARTICLE_LEN\n",
    "check_len_highlight = lambda x: len(x.split(' ')) > MAX_HIGHLIGHT_LEN"
   ]
  },
  {
   "cell_type": "code",
   "execution_count": 13,
   "id": "10d2cc44",
   "metadata": {
    "execution": {
     "iopub.execute_input": "2023-04-15T15:29:34.730818Z",
     "iopub.status.busy": "2023-04-15T15:29:34.730435Z",
     "iopub.status.idle": "2023-04-15T15:29:45.900474Z",
     "shell.execute_reply": "2023-04-15T15:29:45.899513Z"
    },
    "papermill": {
     "duration": 11.217131,
     "end_time": "2023-04-15T15:29:45.902742",
     "exception": false,
     "start_time": "2023-04-15T15:29:34.685611",
     "status": "completed"
    },
    "tags": []
   },
   "outputs": [
    {
     "data": {
      "text/plain": [
       "(239229, 11283)"
      ]
     },
     "execution_count": 13,
     "metadata": {},
     "output_type": "execute_result"
    }
   ],
   "source": [
    "df_train = df_train.drop(df_train[df_train.article.apply(check_len_article) | df_train.highlights.apply(check_len_highlight)].index)\n",
    "df_valid = df_valid.drop(df_valid[df_valid.article.apply(check_len_article) | df_valid.highlights.apply(check_len_highlight)].index)\n",
    "len(df_train), len(df_valid)"
   ]
  },
  {
   "cell_type": "code",
   "execution_count": 14,
   "id": "ef5a7979",
   "metadata": {
    "execution": {
     "iopub.execute_input": "2023-04-15T15:29:45.992888Z",
     "iopub.status.busy": "2023-04-15T15:29:45.992474Z",
     "iopub.status.idle": "2023-04-15T15:29:46.007462Z",
     "shell.execute_reply": "2023-04-15T15:29:46.006221Z"
    },
    "papermill": {
     "duration": 0.06305,
     "end_time": "2023-04-15T15:29:46.009855",
     "exception": false,
     "start_time": "2023-04-15T15:29:45.946805",
     "status": "completed"
    },
    "tags": []
   },
   "outputs": [
    {
     "data": {
      "text/html": [
       "<div>\n",
       "<style scoped>\n",
       "    .dataframe tbody tr th:only-of-type {\n",
       "        vertical-align: middle;\n",
       "    }\n",
       "\n",
       "    .dataframe tbody tr th {\n",
       "        vertical-align: top;\n",
       "    }\n",
       "\n",
       "    .dataframe thead th {\n",
       "        text-align: right;\n",
       "    }\n",
       "</style>\n",
       "<table border=\"1\" class=\"dataframe\">\n",
       "  <thead>\n",
       "    <tr style=\"text-align: right;\">\n",
       "      <th></th>\n",
       "      <th>index</th>\n",
       "      <th>article</th>\n",
       "      <th>highlights</th>\n",
       "    </tr>\n",
       "  </thead>\n",
       "  <tbody>\n",
       "    <tr>\n",
       "      <th>0</th>\n",
       "      <td>0</td>\n",
       "      <td>By . Associated Press . PUBLISHED: . 14:11 EST...</td>\n",
       "      <td>Bishop John Folda, of North Dakota, is taking ...</td>\n",
       "    </tr>\n",
       "    <tr>\n",
       "      <th>1</th>\n",
       "      <td>1</td>\n",
       "      <td>(CNN) -- Ralph Mata was an internal affairs li...</td>\n",
       "      <td>Criminal complaint: Cop used his role to help ...</td>\n",
       "    </tr>\n",
       "    <tr>\n",
       "      <th>2</th>\n",
       "      <td>2</td>\n",
       "      <td>A drunk driver who killed a young woman in a h...</td>\n",
       "      <td>Craig Eccleston-Todd, 27, had drunk at least t...</td>\n",
       "    </tr>\n",
       "    <tr>\n",
       "      <th>3</th>\n",
       "      <td>3</td>\n",
       "      <td>(CNN) -- With a breezy sweep of his pen Presid...</td>\n",
       "      <td>Nina dos Santos says Europe must be ready to a...</td>\n",
       "    </tr>\n",
       "    <tr>\n",
       "      <th>4</th>\n",
       "      <td>4</td>\n",
       "      <td>Fleetwood are the only team still to have a 10...</td>\n",
       "      <td>Fleetwood top of League One after 2-0 win at S...</td>\n",
       "    </tr>\n",
       "  </tbody>\n",
       "</table>\n",
       "</div>"
      ],
      "text/plain": [
       "   index                                            article  \\\n",
       "0      0  By . Associated Press . PUBLISHED: . 14:11 EST...   \n",
       "1      1  (CNN) -- Ralph Mata was an internal affairs li...   \n",
       "2      2  A drunk driver who killed a young woman in a h...   \n",
       "3      3  (CNN) -- With a breezy sweep of his pen Presid...   \n",
       "4      4  Fleetwood are the only team still to have a 10...   \n",
       "\n",
       "                                          highlights  \n",
       "0  Bishop John Folda, of North Dakota, is taking ...  \n",
       "1  Criminal complaint: Cop used his role to help ...  \n",
       "2  Craig Eccleston-Todd, 27, had drunk at least t...  \n",
       "3  Nina dos Santos says Europe must be ready to a...  \n",
       "4  Fleetwood top of League One after 2-0 win at S...  "
      ]
     },
     "execution_count": 14,
     "metadata": {},
     "output_type": "execute_result"
    }
   ],
   "source": [
    "df_train.head()"
   ]
  },
  {
   "cell_type": "code",
   "execution_count": 15,
   "id": "947a7771",
   "metadata": {
    "execution": {
     "iopub.execute_input": "2023-04-15T15:29:46.100193Z",
     "iopub.status.busy": "2023-04-15T15:29:46.099817Z",
     "iopub.status.idle": "2023-04-15T15:29:46.141155Z",
     "shell.execute_reply": "2023-04-15T15:29:46.140092Z"
    },
    "papermill": {
     "duration": 0.089635,
     "end_time": "2023-04-15T15:29:46.143820",
     "exception": false,
     "start_time": "2023-04-15T15:29:46.054185",
     "status": "completed"
    },
    "tags": []
   },
   "outputs": [],
   "source": [
    "df_train = df_train.drop(['index'], axis=1)\n",
    "df_valid = df_valid.drop(['index'], axis=1)\n",
    "df_test = df_test.drop(['index'], axis=1)"
   ]
  },
  {
   "cell_type": "code",
   "execution_count": 16,
   "id": "abc51c5c",
   "metadata": {
    "execution": {
     "iopub.execute_input": "2023-04-15T15:29:46.232409Z",
     "iopub.status.busy": "2023-04-15T15:29:46.231386Z",
     "iopub.status.idle": "2023-04-15T15:29:46.240754Z",
     "shell.execute_reply": "2023-04-15T15:29:46.239736Z"
    },
    "papermill": {
     "duration": 0.055898,
     "end_time": "2023-04-15T15:29:46.242825",
     "exception": false,
     "start_time": "2023-04-15T15:29:46.186927",
     "status": "completed"
    },
    "tags": []
   },
   "outputs": [],
   "source": [
    "def clean_text(text, remove_stopwords=True):\n",
    "    text = text.lower()\n",
    "    text = text.split()\n",
    "    tmp = []\n",
    "    for word in text:\n",
    "        if word in contractions:\n",
    "            tmp.append(contractions[word])\n",
    "        else:\n",
    "            tmp.append(word)\n",
    "    text = ' '.join(tmp)\n",
    "    \n",
    "    text = re.sub(r'https?:\\/\\/.*[\\r\\n]*', '', text, flags=re.MULTILINE)\n",
    "    text = re.sub(r'\\<a href', ' ', text)\n",
    "    text = re.sub(r'&amp;', '', text) \n",
    "    text = re.sub(r'[_\"\\-;%()|+&=*%.,!?:#$@\\[\\]/]', ' ', text)\n",
    "    text = re.sub(r'<br />', ' ', text)\n",
    "    text = re.sub(r'\\'', ' ', text)\n",
    "    \n",
    "    if remove_stopwords:\n",
    "        text = text.split()\n",
    "        stops = set(stopwords.words('english'))\n",
    "        text = [w for w in text if w not in stops]\n",
    "        text = ' '.join(text)\n",
    "        \n",
    "    return text"
   ]
  },
  {
   "cell_type": "code",
   "execution_count": 17,
   "id": "90d2e758",
   "metadata": {
    "execution": {
     "iopub.execute_input": "2023-04-15T15:29:46.331926Z",
     "iopub.status.busy": "2023-04-15T15:29:46.330981Z",
     "iopub.status.idle": "2023-04-15T15:29:46.336963Z",
     "shell.execute_reply": "2023-04-15T15:29:46.335735Z"
    },
    "papermill": {
     "duration": 0.052776,
     "end_time": "2023-04-15T15:29:46.339064",
     "exception": false,
     "start_time": "2023-04-15T15:29:46.286288",
     "status": "completed"
    },
    "tags": []
   },
   "outputs": [],
   "source": [
    "def clean_data(data):\n",
    "    clean_data = []\n",
    "    pairs = data.values.tolist()\n",
    "    for (article, highlight) in tqdm(pairs):\n",
    "        #clean_data.append([clean_text(article, remove_stopwords=False), clean_text(highlight, remove_stopwords=False)])\n",
    "        clean_data.append([article, highlight])\n",
    "    \n",
    "    return clean_data"
   ]
  },
  {
   "cell_type": "code",
   "execution_count": 18,
   "id": "ec073878",
   "metadata": {
    "execution": {
     "iopub.execute_input": "2023-04-15T15:29:46.427522Z",
     "iopub.status.busy": "2023-04-15T15:29:46.426573Z",
     "iopub.status.idle": "2023-04-15T15:29:47.223062Z",
     "shell.execute_reply": "2023-04-15T15:29:47.221856Z"
    },
    "papermill": {
     "duration": 0.843866,
     "end_time": "2023-04-15T15:29:47.225722",
     "exception": false,
     "start_time": "2023-04-15T15:29:46.381856",
     "status": "completed"
    },
    "tags": []
   },
   "outputs": [
    {
     "name": "stderr",
     "output_type": "stream",
     "text": [
      "100%|██████████| 100000/100000 [00:00<00:00, 1170386.95it/s]\n",
      "100%|██████████| 11283/11283 [00:00<00:00, 1352626.18it/s]\n",
      "100%|██████████| 11488/11488 [00:00<00:00, 39027.08it/s]\n"
     ]
    }
   ],
   "source": [
    "train_pairs = clean_data(df_train.iloc[:100000])\n",
    "valid_pairs = clean_data(df_valid)\n",
    "test_pairs = clean_data(df_test)"
   ]
  },
  {
   "cell_type": "code",
   "execution_count": 19,
   "id": "603ac116",
   "metadata": {
    "execution": {
     "iopub.execute_input": "2023-04-15T15:29:47.317755Z",
     "iopub.status.busy": "2023-04-15T15:29:47.317346Z",
     "iopub.status.idle": "2023-04-15T15:29:47.324557Z",
     "shell.execute_reply": "2023-04-15T15:29:47.323344Z"
    },
    "papermill": {
     "duration": 0.056268,
     "end_time": "2023-04-15T15:29:47.327382",
     "exception": false,
     "start_time": "2023-04-15T15:29:47.271114",
     "status": "completed"
    },
    "tags": []
   },
   "outputs": [],
   "source": [
    "def build_vocab(data, tokenizer):\n",
    "    article_counter = Counter()\n",
    "    highlight_counter = Counter()\n",
    "    for (article, highlight) in tqdm(data):\n",
    "        article_counter.update(tokenizer(article))\n",
    "        highlight_counter.update(tokenizer(highlight))\n",
    "    return vocab(article_counter, specials=['<unk>', '<pad>', '<bos>', '<eos>'], min_freq=5), vocab(highlight_counter, specials=['<unk>', '<pad>', '<bos>', '<eos>'], min_freq=5)"
   ]
  },
  {
   "cell_type": "code",
   "execution_count": 20,
   "id": "d9fe3728",
   "metadata": {
    "execution": {
     "iopub.execute_input": "2023-04-15T15:29:47.418592Z",
     "iopub.status.busy": "2023-04-15T15:29:47.417624Z",
     "iopub.status.idle": "2023-04-15T15:32:49.980763Z",
     "shell.execute_reply": "2023-04-15T15:32:49.979731Z"
    },
    "papermill": {
     "duration": 182.611163,
     "end_time": "2023-04-15T15:32:49.983235",
     "exception": false,
     "start_time": "2023-04-15T15:29:47.372072",
     "status": "completed"
    },
    "tags": []
   },
   "outputs": [
    {
     "name": "stderr",
     "output_type": "stream",
     "text": [
      "100%|██████████| 100000/100000 [03:02<00:00, 548.68it/s]\n"
     ]
    },
    {
     "data": {
      "text/plain": [
       "(125012, 37493)"
      ]
     },
     "execution_count": 20,
     "metadata": {},
     "output_type": "execute_result"
    }
   ],
   "source": [
    "articles_vocab, highlights_vocab = build_vocab(train_pairs, tokenizer)\n",
    "len(articles_vocab), len(highlights_vocab)"
   ]
  },
  {
   "cell_type": "code",
   "execution_count": 21,
   "id": "74b09953",
   "metadata": {
    "execution": {
     "iopub.execute_input": "2023-04-15T15:32:50.260310Z",
     "iopub.status.busy": "2023-04-15T15:32:50.259153Z",
     "iopub.status.idle": "2023-04-15T15:32:50.264837Z",
     "shell.execute_reply": "2023-04-15T15:32:50.263800Z"
    },
    "papermill": {
     "duration": 0.148406,
     "end_time": "2023-04-15T15:32:50.267177",
     "exception": false,
     "start_time": "2023-04-15T15:32:50.118771",
     "status": "completed"
    },
    "tags": []
   },
   "outputs": [],
   "source": [
    "articles_vocab.set_default_index(articles_vocab['<unk>'])\n",
    "highlights_vocab.set_default_index(highlights_vocab['<unk>'])"
   ]
  },
  {
   "cell_type": "code",
   "execution_count": 22,
   "id": "1970681c",
   "metadata": {
    "execution": {
     "iopub.execute_input": "2023-04-15T15:32:50.546551Z",
     "iopub.status.busy": "2023-04-15T15:32:50.545378Z",
     "iopub.status.idle": "2023-04-15T15:32:50.552849Z",
     "shell.execute_reply": "2023-04-15T15:32:50.551742Z"
    },
    "papermill": {
     "duration": 0.150093,
     "end_time": "2023-04-15T15:32:50.555046",
     "exception": false,
     "start_time": "2023-04-15T15:32:50.404953",
     "status": "completed"
    },
    "tags": []
   },
   "outputs": [],
   "source": [
    "def data_process(data):\n",
    "    pairs = []\n",
    "    for (article, highlight) in tqdm(data):\n",
    "        article_tensor = torch.tensor([articles_vocab[token] for token in tokenizer(article)],\n",
    "                            dtype=torch.long)\n",
    "        highlight_tensor = torch.tensor([highlights_vocab[token] for token in tokenizer(highlight)],\n",
    "                            dtype=torch.long)\n",
    "        pairs.append((article_tensor, highlight_tensor))\n",
    "    return pairs"
   ]
  },
  {
   "cell_type": "code",
   "execution_count": 23,
   "id": "cb0f1845",
   "metadata": {
    "execution": {
     "iopub.execute_input": "2023-04-15T15:32:50.827049Z",
     "iopub.status.busy": "2023-04-15T15:32:50.825913Z",
     "iopub.status.idle": "2023-04-15T15:36:58.161757Z",
     "shell.execute_reply": "2023-04-15T15:36:58.160597Z"
    },
    "papermill": {
     "duration": 247.474567,
     "end_time": "2023-04-15T15:36:58.164423",
     "exception": false,
     "start_time": "2023-04-15T15:32:50.689856",
     "status": "completed"
    },
    "tags": []
   },
   "outputs": [
    {
     "name": "stderr",
     "output_type": "stream",
     "text": [
      "100%|██████████| 100000/100000 [03:18<00:00, 505.00it/s]\n",
      "100%|██████████| 11283/11283 [00:22<00:00, 499.37it/s]\n",
      "100%|██████████| 11488/11488 [00:26<00:00, 430.28it/s]\n"
     ]
    }
   ],
   "source": [
    "train_data = data_process(train_pairs)\n",
    "val_data = data_process(valid_pairs)\n",
    "test_data = data_process(test_pairs)"
   ]
  },
  {
   "cell_type": "code",
   "execution_count": 24,
   "id": "52f159ea",
   "metadata": {
    "execution": {
     "iopub.execute_input": "2023-04-15T15:36:58.684497Z",
     "iopub.status.busy": "2023-04-15T15:36:58.684130Z",
     "iopub.status.idle": "2023-04-15T15:36:58.740656Z",
     "shell.execute_reply": "2023-04-15T15:36:58.739712Z"
    },
    "papermill": {
     "duration": 0.319711,
     "end_time": "2023-04-15T15:36:58.742899",
     "exception": false,
     "start_time": "2023-04-15T15:36:58.423188",
     "status": "completed"
    },
    "tags": []
   },
   "outputs": [],
   "source": [
    "del df_train\n",
    "del df_valid\n",
    "del df_test\n",
    "del train_pairs\n",
    "del valid_pairs\n",
    "del test_pairs"
   ]
  },
  {
   "cell_type": "code",
   "execution_count": 25,
   "id": "844fe62d",
   "metadata": {
    "execution": {
     "iopub.execute_input": "2023-04-15T15:36:59.314295Z",
     "iopub.status.busy": "2023-04-15T15:36:59.313929Z",
     "iopub.status.idle": "2023-04-15T15:36:59.320376Z",
     "shell.execute_reply": "2023-04-15T15:36:59.319361Z"
    },
    "papermill": {
     "duration": 0.321783,
     "end_time": "2023-04-15T15:36:59.322812",
     "exception": false,
     "start_time": "2023-04-15T15:36:59.001029",
     "status": "completed"
    },
    "tags": []
   },
   "outputs": [
    {
     "data": {
      "text/plain": [
       "(100000, 11283)"
      ]
     },
     "execution_count": 25,
     "metadata": {},
     "output_type": "execute_result"
    }
   ],
   "source": [
    "len(train_data), len(val_data)"
   ]
  },
  {
   "cell_type": "code",
   "execution_count": 26,
   "id": "4123ead1",
   "metadata": {
    "execution": {
     "iopub.execute_input": "2023-04-15T15:36:59.839237Z",
     "iopub.status.busy": "2023-04-15T15:36:59.838878Z",
     "iopub.status.idle": "2023-04-15T15:36:59.844554Z",
     "shell.execute_reply": "2023-04-15T15:36:59.843480Z"
    },
    "papermill": {
     "duration": 0.265916,
     "end_time": "2023-04-15T15:36:59.846917",
     "exception": false,
     "start_time": "2023-04-15T15:36:59.581001",
     "status": "completed"
    },
    "tags": []
   },
   "outputs": [],
   "source": [
    "device = torch.device('cuda' if torch.cuda.is_available() else 'cpu')\n",
    "\n",
    "BATCH_SIZE = 8\n",
    "PAD_IDX = articles_vocab['<pad>']\n",
    "BOS_IDX = articles_vocab['<bos>']\n",
    "EOS_IDX = articles_vocab['<eos>']"
   ]
  },
  {
   "cell_type": "code",
   "execution_count": 27,
   "id": "c12bf9fd",
   "metadata": {
    "execution": {
     "iopub.execute_input": "2023-04-15T15:37:00.361689Z",
     "iopub.status.busy": "2023-04-15T15:37:00.361311Z",
     "iopub.status.idle": "2023-04-15T15:37:00.368446Z",
     "shell.execute_reply": "2023-04-15T15:37:00.367362Z"
    },
    "papermill": {
     "duration": 0.267547,
     "end_time": "2023-04-15T15:37:00.370603",
     "exception": false,
     "start_time": "2023-04-15T15:37:00.103056",
     "status": "completed"
    },
    "tags": []
   },
   "outputs": [],
   "source": [
    "def generate_batch(data_batch):\n",
    "    article_batch, highlight_batch = [], []\n",
    "    for (article, highlight) in data_batch:\n",
    "        article_batch.append(torch.cat([torch.tensor([BOS_IDX]), article, torch.tensor([EOS_IDX])], dim=0).to(device))\n",
    "        highlight_batch.append(torch.cat([torch.tensor([BOS_IDX]), highlight, torch.tensor([EOS_IDX])], dim=0).to(device))  \n",
    "        \n",
    "    article_batch = pad_sequence(article_batch, padding_value=PAD_IDX)\n",
    "    highlight_batch = pad_sequence(highlight_batch, padding_value=PAD_IDX)\n",
    "    return article_batch, highlight_batch"
   ]
  },
  {
   "cell_type": "code",
   "execution_count": 28,
   "id": "6bd9eb02",
   "metadata": {
    "execution": {
     "iopub.execute_input": "2023-04-15T15:37:00.891147Z",
     "iopub.status.busy": "2023-04-15T15:37:00.890062Z",
     "iopub.status.idle": "2023-04-15T15:37:00.896994Z",
     "shell.execute_reply": "2023-04-15T15:37:00.895927Z"
    },
    "papermill": {
     "duration": 0.271667,
     "end_time": "2023-04-15T15:37:00.899297",
     "exception": false,
     "start_time": "2023-04-15T15:37:00.627630",
     "status": "completed"
    },
    "tags": []
   },
   "outputs": [],
   "source": [
    "train_loader = DataLoader(train_data, batch_size=BATCH_SIZE,\n",
    "                        shuffle=True, collate_fn=generate_batch)\n",
    "val_loader = DataLoader(val_data, batch_size=BATCH_SIZE,\n",
    "                        shuffle=True, collate_fn=generate_batch)\n",
    "test_loader = DataLoader(test_data, batch_size=BATCH_SIZE,\n",
    "                        shuffle=True, collate_fn=generate_batch)"
   ]
  },
  {
   "cell_type": "code",
   "execution_count": 29,
   "id": "32c84f6d",
   "metadata": {
    "execution": {
     "iopub.execute_input": "2023-04-15T15:37:01.464658Z",
     "iopub.status.busy": "2023-04-15T15:37:01.463602Z",
     "iopub.status.idle": "2023-04-15T15:37:01.474470Z",
     "shell.execute_reply": "2023-04-15T15:37:01.473539Z"
    },
    "papermill": {
     "duration": 0.275144,
     "end_time": "2023-04-15T15:37:01.477094",
     "exception": false,
     "start_time": "2023-04-15T15:37:01.201950",
     "status": "completed"
    },
    "tags": []
   },
   "outputs": [],
   "source": [
    "class Encoder(nn.Module):\n",
    "    def __init__(self, \n",
    "                 input_dim: int, \n",
    "                 emb_dim: int, \n",
    "                 enc_hid_dim: int, \n",
    "                 dec_hid_dim: int, \n",
    "                 dropout: float):\n",
    "        super().__init__()\n",
    "        \n",
    "        self.input_dim = input_dim\n",
    "        self.emb_dim = emb_dim\n",
    "        self.enc_hid_dim = enc_hid_dim\n",
    "        self.dec_hid_dim = dec_hid_dim\n",
    "        self.dropout = dropout\n",
    "        \n",
    "        self.embedding = nn.Embedding(input_dim, emb_dim)\n",
    "        \n",
    "        self.gru = nn.GRU(emb_dim, enc_hid_dim, bidirectional = True)\n",
    "        \n",
    "        self.fc = nn.Linear(enc_hid_dim * 2, dec_hid_dim)\n",
    "        \n",
    "        self.dropout = nn.Dropout(dropout)\n",
    "        \n",
    "    def forward(self, src):\n",
    "        \n",
    "        #src = [src sent len, batch size]\n",
    "        \n",
    "        embedded = self.dropout(self.embedding(src))\n",
    "        \n",
    "        #embedded = [src sent len, batch size, emb dim]\n",
    "        \n",
    "        outputs, hidden = self.gru(embedded)\n",
    "                \n",
    "        #outputs = [src sent len, batch size, hid dim * num directions]\n",
    "        #hidden = [n layers * num directions, batch size, hid dim]\n",
    "        \n",
    "        #hidden is stacked [forward_1, backward_1, forward_2, backward_2, ...]\n",
    "        #outputs are always from the last layer\n",
    "        \n",
    "        #hidden [-2, :, : ] is the last of the forwards RNN \n",
    "        #hidden [-1, :, : ] is the last of the backwards RNN\n",
    "        \n",
    "        #initial decoder hidden is final hidden state of the forwards and backwards \n",
    "        #  encoder RNNs fed through a linear layer\n",
    "        # Note: torch.cat((hidden[-2,:,:], hidden[-1,:,:]), dim = 1)\n",
    "        # is of shape [batch_size, enc_hid_dim * 2]\n",
    "        \n",
    "        hidden = torch.tanh(self.fc(torch.cat((hidden[-2,:,:], hidden[-1,:,:]), dim = 1)))\n",
    "        \n",
    "        #outputs = [src sent len, batch size, enc hid dim * 2]\n",
    "        #hidden = [batch size, dec hid dim]\n",
    "        \n",
    "        return outputs, hidden"
   ]
  },
  {
   "cell_type": "code",
   "execution_count": 30,
   "id": "d783fb4b",
   "metadata": {
    "execution": {
     "iopub.execute_input": "2023-04-15T15:37:02.005047Z",
     "iopub.status.busy": "2023-04-15T15:37:02.004056Z",
     "iopub.status.idle": "2023-04-15T15:37:02.015305Z",
     "shell.execute_reply": "2023-04-15T15:37:02.014304Z"
    },
    "papermill": {
     "duration": 0.27918,
     "end_time": "2023-04-15T15:37:02.017442",
     "exception": false,
     "start_time": "2023-04-15T15:37:01.738262",
     "status": "completed"
    },
    "tags": []
   },
   "outputs": [],
   "source": [
    "class Attention(nn.Module):\n",
    "    def __init__(self, \n",
    "                 enc_hid_dim: int, \n",
    "                 dec_hid_dim: int,\n",
    "                 attn_dim: int):\n",
    "        super().__init__()\n",
    "        \n",
    "        self.enc_hid_dim = enc_hid_dim\n",
    "        self.dec_hid_dim = dec_hid_dim\n",
    "        \n",
    "        self.attn_in = (enc_hid_dim * 2) + dec_hid_dim\n",
    "        \n",
    "        self.attn = nn.Linear(self.attn_in, attn_dim)\n",
    "        self.v = nn.Parameter(torch.rand(attn_dim))\n",
    "        \n",
    "    def forward(self, decoder_hidden, encoder_outputs):\n",
    "        \n",
    "        #hidden = [batch size, dec hid dim]\n",
    "        #encoder_outputs = [src sent len, batch size, enc hid dim * 2]\n",
    "        \n",
    "        batch_size = encoder_outputs.shape[1]\n",
    "        src_len = encoder_outputs.shape[0]\n",
    "        \n",
    "        #repeat decoder hidden state src_len times\n",
    "        repeated_decoder_hidden = decoder_hidden.unsqueeze(1).repeat(1, src_len, 1)\n",
    "        \n",
    "        encoder_outputs = encoder_outputs.permute(1, 0, 2)\n",
    "        \n",
    "        #decoder_hidden = [batch size, src sent len, dec hid dim]\n",
    "        #encoder_outputs = [batch size, src sent len, enc hid dim * 2]\n",
    "        \n",
    "        # Step 1: to enable feeding through \"self.attn\" pink box above, concatenate \n",
    "        # `repeated_decoder_hidden` and `encoder_outputs`:\n",
    "        # torch.cat((hidden, encoder_outputs), dim = 2) has shape \n",
    "        # [batch_size, seq_len, enc_hid_dim * 2 + dec_hid_dim]\n",
    "        \n",
    "        # Step 2: feed through self.attn to end up with:\n",
    "        # [batch_size, seq_len, attn_dim]\n",
    "        \n",
    "        # Step 3: feed through tanh       \n",
    "        \n",
    "        energy = torch.tanh(self.attn(torch.cat((\n",
    "            repeated_decoder_hidden, \n",
    "            encoder_outputs), \n",
    "            dim = 2))) \n",
    "        \n",
    "        #energy = [batch size, src sent len, attn_dim]\n",
    "        \n",
    "        energy = energy.permute(0, 2, 1)\n",
    "        \n",
    "        #energy = [batch size, attn_dim, src sent len]\n",
    "        \n",
    "        #v = [attn_dim]\n",
    "        \n",
    "        v = self.v.repeat(batch_size, 1).unsqueeze(1)\n",
    "        \n",
    "        #v = [batch size, 1, attn_dim]\n",
    "        \n",
    "        # High level: energy a function of both encoder element outputs and most recent decoder hidden state,\n",
    "        # of shape attn_dim x enc_seq_len for each observation\n",
    "        # v, being 1 x attn_dim, transforms this into a vector of shape 1 x enc_seq_len for each observation\n",
    "        # Then, we take the softmax over these to get the output of the attention function\n",
    "\n",
    "        attention = torch.bmm(v, energy).squeeze(1)\n",
    "        \n",
    "        #attention= [batch size, src len]\n",
    "        \n",
    "        return torch.nn.functional.softmax(attention, dim=1)"
   ]
  },
  {
   "cell_type": "code",
   "execution_count": 31,
   "id": "e73f885c",
   "metadata": {
    "execution": {
     "iopub.execute_input": "2023-04-15T15:37:02.529641Z",
     "iopub.status.busy": "2023-04-15T15:37:02.529172Z",
     "iopub.status.idle": "2023-04-15T15:37:02.542130Z",
     "shell.execute_reply": "2023-04-15T15:37:02.541086Z"
    },
    "papermill": {
     "duration": 0.272436,
     "end_time": "2023-04-15T15:37:02.544329",
     "exception": false,
     "start_time": "2023-04-15T15:37:02.271893",
     "status": "completed"
    },
    "tags": []
   },
   "outputs": [],
   "source": [
    "class Decoder(nn.Module):\n",
    "    def __init__(self, \n",
    "                 output_dim: int, \n",
    "                 emb_dim: int, \n",
    "                 enc_hid_dim: int, \n",
    "                 dec_hid_dim: int, \n",
    "                 dropout: int, \n",
    "                 attention: nn.Module):\n",
    "        super().__init__()\n",
    "\n",
    "        self.emb_dim = emb_dim\n",
    "        self.enc_hid_dim = enc_hid_dim\n",
    "        self.dec_hid_dim = dec_hid_dim\n",
    "        self.output_dim = output_dim\n",
    "        self.dropout = dropout\n",
    "        self.attention = attention\n",
    "        # Note: from Attention: self.attn = nn.Linear((enc_hid_dim * 2) + dec_hid_dim, attn_dim)\n",
    "        \n",
    "        # Note: `output_dim` same as `vocab_size`\n",
    "        self.embedding = nn.Embedding(output_dim, emb_dim)\n",
    "        \n",
    "        self.gru = nn.GRU((enc_hid_dim * 2) + emb_dim, dec_hid_dim)\n",
    "        \n",
    "        self.out = nn.Linear(self.attention.attn_in + emb_dim, output_dim)\n",
    "        \n",
    "        self.dropout = nn.Dropout(dropout)\n",
    "        \n",
    "        \n",
    "    def _weighted_encoder_rep(self, decoder_hidden, encoder_outputs):\n",
    "        \n",
    "        # Attention, at a high level, takes in:\n",
    "        # The decoder hidden state\n",
    "        # All the \"seq_len\" encoder outputs\n",
    "        # Outputs a vector summing to 1 of length seq_len for each observation\n",
    "        a = self.attention(decoder_hidden, encoder_outputs)\n",
    "\n",
    "        #a = [batch size, src len]\n",
    "\n",
    "        a = a.unsqueeze(1)\n",
    "\n",
    "        #a = [batch size, 1, src len]\n",
    "\n",
    "        encoder_outputs = encoder_outputs.permute(1, 0, 2)\n",
    "\n",
    "        #encoder_outputs = [batch size, src sent len, enc hid dim * 2]\n",
    "\n",
    "        weighted_encoder_rep = torch.bmm(a, encoder_outputs)\n",
    "\n",
    "        #weighted_encoder_rep = [batch size, 1, enc hid dim * 2]\n",
    "\n",
    "        weighted_encoder_rep = weighted_encoder_rep.permute(1, 0, 2)\n",
    "\n",
    "        #weighted_encoder_rep = [1, batch size, enc hid dim * 2]\n",
    "        \n",
    "        return weighted_encoder_rep\n",
    "        \n",
    "        \n",
    "    def forward(self, input, decoder_hidden, encoder_outputs):\n",
    "             \n",
    "        #input = [batch size] Note: \"one character at a time\"\n",
    "        #hidden = [batch size, dec hid dim]\n",
    "        #encoder_outputs = [src sent len, batch size, enc hid dim * 2]\n",
    "        \n",
    "        input = input.unsqueeze(0)\n",
    "        \n",
    "        #input = [1, batch size]\n",
    "        \n",
    "        embedded = self.dropout(self.embedding(input))\n",
    "        \n",
    "        #embedded = [1, batch size, emb dim]\n",
    "        \n",
    "        weighted_encoder_rep = self._weighted_encoder_rep(decoder_hidden, \n",
    "                                                          encoder_outputs)\n",
    "        \n",
    "        # Then, the input to the decoder _for this character_ is a concatenation of:\n",
    "        # This weighted attention\n",
    "        # The embedding itself\n",
    "        \n",
    "        rnn_input = torch.cat((embedded, weighted_encoder_rep), dim = 2)\n",
    "        \n",
    "        #rnn_input = [1, batch size, (enc hid dim * 2) + emb dim]\n",
    "            \n",
    "        output, decoder_hidden = self.gru(rnn_input, decoder_hidden.unsqueeze(0))\n",
    "        \n",
    "        #output = [sent len, batch size, dec hid dim * n directions]\n",
    "        #decoder_hidden = [n layers * n directions, batch size, dec hid dim]\n",
    "        \n",
    "        #sent len, n layers and n directions will always be 1 in this decoder, therefore:\n",
    "        #output = [1, batch size, dec hid dim]\n",
    "        #hidden = [1, batch size, dec hid dim]\n",
    "        #this also means that output == hidden\n",
    "        assert (output == decoder_hidden).all()\n",
    "        \n",
    "        embedded = embedded.squeeze(0)\n",
    "        output = output.squeeze(0)\n",
    "        weighted_encoder_rep = weighted_encoder_rep.squeeze(0)\n",
    "        \n",
    "        output = self.out(torch.cat((output, \n",
    "                                     weighted_encoder_rep, \n",
    "                                     embedded), dim = 1))\n",
    "        \n",
    "        #output = [bsz, output dim]\n",
    "        \n",
    "        return output, decoder_hidden.squeeze(0)"
   ]
  },
  {
   "cell_type": "code",
   "execution_count": 32,
   "id": "73ee632e",
   "metadata": {
    "execution": {
     "iopub.execute_input": "2023-04-15T15:37:03.144271Z",
     "iopub.status.busy": "2023-04-15T15:37:03.143905Z",
     "iopub.status.idle": "2023-04-15T15:37:03.153023Z",
     "shell.execute_reply": "2023-04-15T15:37:03.152019Z"
    },
    "papermill": {
     "duration": 0.268735,
     "end_time": "2023-04-15T15:37:03.155105",
     "exception": false,
     "start_time": "2023-04-15T15:37:02.886370",
     "status": "completed"
    },
    "tags": []
   },
   "outputs": [],
   "source": [
    "class Seq2Seq(nn.Module):\n",
    "    def __init__(self, \n",
    "                 encoder: nn.Module, \n",
    "                 decoder: nn.Module, \n",
    "                 device: torch.device):\n",
    "        super().__init__()\n",
    "        \n",
    "        self.encoder = encoder\n",
    "        self.decoder = decoder\n",
    "        self.device = device\n",
    "        \n",
    "    def forward(self, src, trg, \n",
    "                teacher_forcing_ratio: float = 0.5):\n",
    "        \n",
    "        #src = [src sent len, batch size]\n",
    "        #trg = [trg sent len, batch size]\n",
    "        #teacher_forcing_ratio is probability to use teacher forcing\n",
    "        #e.g. if teacher_forcing_ratio is 0.75 we use teacher forcing 75% of the time\n",
    "        \n",
    "        batch_size = src.shape[1]\n",
    "        max_len = trg.shape[0]\n",
    "        trg_vocab_size = self.decoder.output_dim\n",
    "        \n",
    "        #tensor to store decoder outputs\n",
    "        outputs = torch.zeros(max_len, batch_size, trg_vocab_size).to(self.device)\n",
    "        \n",
    "        #encoder_outputs is all hidden states of the input sequence, back and forwards\n",
    "        #hidden is the final forward and backward hidden states, passed through a linear layer\n",
    "        encoder_outputs, hidden = self.encoder(src)\n",
    "                \n",
    "        #first input to the decoder is the <sos> tokens\n",
    "        output = trg[0,:]\n",
    "        \n",
    "        for t in range(1, max_len):\n",
    "            output, hidden = self.decoder(output, hidden, encoder_outputs)\n",
    "            outputs[t] = output\n",
    "            teacher_force = random.random() < teacher_forcing_ratio\n",
    "            top1 = output.max(1)[1]\n",
    "            output = (trg[t] if teacher_force else top1)\n",
    "\n",
    "        return outputs"
   ]
  },
  {
   "cell_type": "code",
   "execution_count": 33,
   "id": "ed3fb0d5",
   "metadata": {
    "execution": {
     "iopub.execute_input": "2023-04-15T15:37:03.664843Z",
     "iopub.status.busy": "2023-04-15T15:37:03.663685Z",
     "iopub.status.idle": "2023-04-15T15:37:05.273873Z",
     "shell.execute_reply": "2023-04-15T15:37:05.272825Z"
    },
    "papermill": {
     "duration": 1.867444,
     "end_time": "2023-04-15T15:37:05.276371",
     "exception": false,
     "start_time": "2023-04-15T15:37:03.408927",
     "status": "completed"
    },
    "tags": []
   },
   "outputs": [],
   "source": [
    "INPUT_DIM = len(articles_vocab)\n",
    "OUTPUT_DIM = len(highlights_vocab)\n",
    "ENC_EMB_DIM = 128\n",
    "DEC_EMB_DIM = 128\n",
    "ENC_HID_DIM = 256\n",
    "DEC_HID_DIM = 256\n",
    "ATTN_DIM = 32\n",
    "ENC_DROPOUT = 0.5\n",
    "DEC_DROPOUT = 0.5\n",
    "\n",
    "attn = Attention(ENC_HID_DIM, DEC_HID_DIM, ATTN_DIM)\n",
    "enc = Encoder(INPUT_DIM, ENC_EMB_DIM, ENC_HID_DIM, DEC_HID_DIM, ENC_DROPOUT)\n",
    "dec = Decoder(OUTPUT_DIM, DEC_EMB_DIM, ENC_HID_DIM, DEC_HID_DIM, DEC_DROPOUT, attn)\n",
    "\n",
    "model = Seq2Seq(enc, dec, device).to(device)"
   ]
  },
  {
   "cell_type": "code",
   "execution_count": 34,
   "id": "69526050",
   "metadata": {
    "execution": {
     "iopub.execute_input": "2023-04-15T15:37:05.786831Z",
     "iopub.status.busy": "2023-04-15T15:37:05.786437Z",
     "iopub.status.idle": "2023-04-15T15:37:05.792695Z",
     "shell.execute_reply": "2023-04-15T15:37:05.791725Z"
    },
    "papermill": {
     "duration": 0.26284,
     "end_time": "2023-04-15T15:37:05.794763",
     "exception": false,
     "start_time": "2023-04-15T15:37:05.531923",
     "status": "completed"
    },
    "tags": []
   },
   "outputs": [
    {
     "data": {
      "text/plain": [
       "37493"
      ]
     },
     "execution_count": 34,
     "metadata": {},
     "output_type": "execute_result"
    }
   ],
   "source": [
    "OUTPUT_DIM"
   ]
  },
  {
   "cell_type": "code",
   "execution_count": 35,
   "id": "2efd27dd",
   "metadata": {
    "execution": {
     "iopub.execute_input": "2023-04-15T15:37:06.344307Z",
     "iopub.status.busy": "2023-04-15T15:37:06.343733Z",
     "iopub.status.idle": "2023-04-15T15:37:06.356792Z",
     "shell.execute_reply": "2023-04-15T15:37:06.355713Z"
    },
    "papermill": {
     "duration": 0.268744,
     "end_time": "2023-04-15T15:37:06.359032",
     "exception": false,
     "start_time": "2023-04-15T15:37:06.090288",
     "status": "completed"
    },
    "tags": []
   },
   "outputs": [
    {
     "data": {
      "text/plain": [
       "Seq2Seq(\n",
       "  (encoder): Encoder(\n",
       "    (embedding): Embedding(125012, 128)\n",
       "    (gru): GRU(128, 256, bidirectional=True)\n",
       "    (fc): Linear(in_features=512, out_features=256, bias=True)\n",
       "    (dropout): Dropout(p=0.5, inplace=False)\n",
       "  )\n",
       "  (decoder): Decoder(\n",
       "    (attention): Attention(\n",
       "      (attn): Linear(in_features=768, out_features=32, bias=True)\n",
       "    )\n",
       "    (embedding): Embedding(37493, 128)\n",
       "    (gru): GRU(640, 256)\n",
       "    (out): Linear(in_features=896, out_features=37493, bias=True)\n",
       "    (dropout): Dropout(p=0.5, inplace=False)\n",
       "  )\n",
       ")"
      ]
     },
     "execution_count": 35,
     "metadata": {},
     "output_type": "execute_result"
    }
   ],
   "source": [
    "def init_weights(m: nn.Module):\n",
    "    for name, param in m.named_parameters():\n",
    "        if 'weight' in name:\n",
    "            nn.init.normal_(param.data, mean=0, std=0.01)\n",
    "        else:\n",
    "            nn.init.constant_(param.data, 0)\n",
    "            \n",
    "model.apply(init_weights)"
   ]
  },
  {
   "cell_type": "code",
   "execution_count": 36,
   "id": "88006662",
   "metadata": {
    "execution": {
     "iopub.execute_input": "2023-04-15T15:37:06.865695Z",
     "iopub.status.busy": "2023-04-15T15:37:06.865311Z",
     "iopub.status.idle": "2023-04-15T15:37:06.871380Z",
     "shell.execute_reply": "2023-04-15T15:37:06.870392Z"
    },
    "papermill": {
     "duration": 0.264533,
     "end_time": "2023-04-15T15:37:06.873759",
     "exception": false,
     "start_time": "2023-04-15T15:37:06.609226",
     "status": "completed"
    },
    "tags": []
   },
   "outputs": [
    {
     "name": "stdout",
     "output_type": "stream",
     "text": [
      "The model has 55,870,389 trainable parameters\n"
     ]
    }
   ],
   "source": [
    "def count_parameters(model: nn.Module):\n",
    "    return sum(p.numel() for p in model.parameters() if p.requires_grad)\n",
    "\n",
    "print(f'The model has {count_parameters(model):,} trainable parameters')"
   ]
  },
  {
   "cell_type": "code",
   "execution_count": 37,
   "id": "62561141",
   "metadata": {
    "execution": {
     "iopub.execute_input": "2023-04-15T15:37:07.386768Z",
     "iopub.status.busy": "2023-04-15T15:37:07.386385Z",
     "iopub.status.idle": "2023-04-15T15:37:07.392129Z",
     "shell.execute_reply": "2023-04-15T15:37:07.391173Z"
    },
    "papermill": {
     "duration": 0.265538,
     "end_time": "2023-04-15T15:37:07.394186",
     "exception": false,
     "start_time": "2023-04-15T15:37:07.128648",
     "status": "completed"
    },
    "tags": []
   },
   "outputs": [],
   "source": [
    "optimizer = optim.Adam(model.parameters())"
   ]
  },
  {
   "cell_type": "code",
   "execution_count": 38,
   "id": "2ea1c6cf",
   "metadata": {
    "execution": {
     "iopub.execute_input": "2023-04-15T15:37:08.053519Z",
     "iopub.status.busy": "2023-04-15T15:37:08.052511Z",
     "iopub.status.idle": "2023-04-15T15:37:08.057846Z",
     "shell.execute_reply": "2023-04-15T15:37:08.056822Z"
    },
    "papermill": {
     "duration": 0.361382,
     "end_time": "2023-04-15T15:37:08.059921",
     "exception": false,
     "start_time": "2023-04-15T15:37:07.698539",
     "status": "completed"
    },
    "tags": []
   },
   "outputs": [],
   "source": [
    "PAD_IDX = highlights_vocab['<pad>']\n",
    "criterion = nn.CrossEntropyLoss(ignore_index = PAD_IDX)"
   ]
  },
  {
   "cell_type": "code",
   "execution_count": 39,
   "id": "a68bbcdf",
   "metadata": {
    "execution": {
     "iopub.execute_input": "2023-04-15T15:37:08.564654Z",
     "iopub.status.busy": "2023-04-15T15:37:08.563501Z",
     "iopub.status.idle": "2023-04-15T15:37:08.573399Z",
     "shell.execute_reply": "2023-04-15T15:37:08.572437Z"
    },
    "papermill": {
     "duration": 0.264672,
     "end_time": "2023-04-15T15:37:08.575467",
     "exception": false,
     "start_time": "2023-04-15T15:37:08.310795",
     "status": "completed"
    },
    "tags": []
   },
   "outputs": [],
   "source": [
    "def train(model, dataloader, optimizer, criterion, clip):\n",
    "    \n",
    "    model.train()\n",
    "    \n",
    "    epoch_loss = 0\n",
    "    \n",
    "    for _, (src, trg) in enumerate(tqdm(dataloader)):\n",
    "        optimizer.zero_grad()\n",
    "        output = model(src, trg)\n",
    "        \n",
    "        #trg = [trg sent len, batch size]\n",
    "        #output = [trg sent len, batch size, output dim]\n",
    "        \n",
    "        output = output[1:].view(-1, output.shape[-1])\n",
    "        trg = trg[1:].view(-1)\n",
    "        \n",
    "        #trg = [(trg sent len - 1) * batch size]\n",
    "        #output = [(trg sent len - 1) * batch size, output dim]\n",
    "        \n",
    "        loss = criterion(output, trg)\n",
    "        \n",
    "        loss.backward()\n",
    "        \n",
    "        torch.nn.utils.clip_grad_norm_(model.parameters(), clip)\n",
    "        \n",
    "        optimizer.step()\n",
    "        \n",
    "        epoch_loss += loss.item()\n",
    "        \n",
    "    return epoch_loss / (len(dataloader)*BATCH_SIZE)"
   ]
  },
  {
   "cell_type": "code",
   "execution_count": 40,
   "id": "784618d7",
   "metadata": {
    "execution": {
     "iopub.execute_input": "2023-04-15T15:37:09.087311Z",
     "iopub.status.busy": "2023-04-15T15:37:09.086665Z",
     "iopub.status.idle": "2023-04-15T15:37:09.094018Z",
     "shell.execute_reply": "2023-04-15T15:37:09.092890Z"
    },
    "papermill": {
     "duration": 0.268505,
     "end_time": "2023-04-15T15:37:09.096459",
     "exception": false,
     "start_time": "2023-04-15T15:37:08.827954",
     "status": "completed"
    },
    "tags": []
   },
   "outputs": [],
   "source": [
    "def evaluate(model, dataloader, criterion):\n",
    "    \n",
    "    model.eval()\n",
    "    \n",
    "    epoch_loss = 0\n",
    "    \n",
    "    with torch.no_grad():\n",
    "    \n",
    "        for _, (src, trg) in enumerate(tqdm(dataloader)):\n",
    "            output = model(src, trg, 0) #turn off teacher forcing\n",
    "\n",
    "            #trg = [trg sent len, batch size]\n",
    "            #output = [trg sent len, batch size, output dim]\n",
    "\n",
    "            output = output[1:].view(-1, output.shape[-1])\n",
    "            trg = trg[1:].view(-1)\n",
    "\n",
    "            #trg = [(trg sent len - 1) * batch size]\n",
    "            #output = [(trg sent len - 1) * batch size, output dim]\n",
    "\n",
    "            loss = criterion(output, trg)\n",
    "\n",
    "            epoch_loss += loss.item()\n",
    "        \n",
    "    return epoch_loss / (len(dataloader)*BATCH_SIZE)"
   ]
  },
  {
   "cell_type": "code",
   "execution_count": 41,
   "id": "702faee3",
   "metadata": {
    "execution": {
     "iopub.execute_input": "2023-04-15T15:37:09.646452Z",
     "iopub.status.busy": "2023-04-15T15:37:09.645768Z",
     "iopub.status.idle": "2023-04-15T15:37:09.651095Z",
     "shell.execute_reply": "2023-04-15T15:37:09.650052Z"
    },
    "papermill": {
     "duration": 0.305142,
     "end_time": "2023-04-15T15:37:09.653224",
     "exception": false,
     "start_time": "2023-04-15T15:37:09.348082",
     "status": "completed"
    },
    "tags": []
   },
   "outputs": [],
   "source": [
    "def epoch_time(start_time: int, \n",
    "               end_time: int):\n",
    "    elapsed_time = end_time - start_time\n",
    "    elapsed_mins = int(elapsed_time / 60)\n",
    "    elapsed_secs = int(elapsed_time - (elapsed_mins * 60))\n",
    "    return elapsed_mins, elapsed_secs"
   ]
  },
  {
   "cell_type": "code",
   "execution_count": 42,
   "id": "ccea2e4f",
   "metadata": {
    "execution": {
     "iopub.execute_input": "2023-04-15T15:37:10.162075Z",
     "iopub.status.busy": "2023-04-15T15:37:10.161348Z",
     "iopub.status.idle": "2023-04-15T15:37:10.166203Z",
     "shell.execute_reply": "2023-04-15T15:37:10.165086Z"
    },
    "papermill": {
     "duration": 0.264166,
     "end_time": "2023-04-15T15:37:10.168393",
     "exception": false,
     "start_time": "2023-04-15T15:37:09.904227",
     "status": "completed"
    },
    "tags": []
   },
   "outputs": [],
   "source": [
    "MODEL_PATH = 'rnn-attn-model.pt'"
   ]
  },
  {
   "cell_type": "code",
   "execution_count": 43,
   "id": "378dcb07",
   "metadata": {
    "execution": {
     "iopub.execute_input": "2023-04-15T15:37:10.678480Z",
     "iopub.status.busy": "2023-04-15T15:37:10.676765Z",
     "iopub.status.idle": "2023-04-15T22:02:40.792236Z",
     "shell.execute_reply": "2023-04-15T22:02:40.790309Z"
    },
    "papermill": {
     "duration": 23130.375049,
     "end_time": "2023-04-15T22:02:40.796388",
     "exception": false,
     "start_time": "2023-04-15T15:37:10.421339",
     "status": "completed"
    },
    "tags": []
   },
   "outputs": [
    {
     "name": "stderr",
     "output_type": "stream",
     "text": [
      "100%|██████████| 12500/12500 [2:02:53<00:00,  1.70it/s]\n",
      "100%|██████████| 1411/1411 [05:22<00:00,  4.38it/s]\n"
     ]
    },
    {
     "name": "stdout",
     "output_type": "stream",
     "text": [
      "Epoch: 01 | Time: 128m 15s\n",
      "\tTrain Loss: 0.769 | Train PPL:   2.158\n",
      "\t Val. Loss: 0.830 |  Val. PPL:   2.293\n"
     ]
    },
    {
     "name": "stderr",
     "output_type": "stream",
     "text": [
      "100%|██████████| 12500/12500 [2:02:52<00:00,  1.70it/s]\n",
      "100%|██████████| 1411/1411 [05:24<00:00,  4.35it/s]\n"
     ]
    },
    {
     "name": "stdout",
     "output_type": "stream",
     "text": [
      "Epoch: 02 | Time: 128m 16s\n",
      "\tTrain Loss: 0.695 | Train PPL:   2.004\n",
      "\t Val. Loss: 0.822 |  Val. PPL:   2.274\n"
     ]
    },
    {
     "name": "stderr",
     "output_type": "stream",
     "text": [
      "100%|██████████| 12500/12500 [2:03:29<00:00,  1.69it/s]\n",
      "100%|██████████| 1411/1411 [05:27<00:00,  4.31it/s]\n"
     ]
    },
    {
     "name": "stdout",
     "output_type": "stream",
     "text": [
      "Epoch: 03 | Time: 128m 56s\n",
      "\tTrain Loss: 0.664 | Train PPL:   1.942\n",
      "\t Val. Loss: 0.815 |  Val. PPL:   2.259\n"
     ]
    }
   ],
   "source": [
    "N_EPOCHS = 3\n",
    "CLIP = 1\n",
    "\n",
    "best_valid_loss = float('inf')\n",
    "\n",
    "for epoch in range(N_EPOCHS):\n",
    "    \n",
    "    start_time = time.time()\n",
    "    \n",
    "    train_loss = train(model, train_loader, optimizer, criterion, CLIP)\n",
    "    valid_loss = evaluate(model, val_loader, criterion)\n",
    "    \n",
    "    end_time = time.time()\n",
    "    \n",
    "    epoch_mins, epoch_secs = epoch_time(start_time, end_time)\n",
    "    \n",
    "    if valid_loss < best_valid_loss:\n",
    "        best_valid_loss = valid_loss\n",
    "        torch.save(model.state_dict(), MODEL_PATH)\n",
    "    \n",
    "    print(f'Epoch: {epoch+1:02} | Time: {epoch_mins}m {epoch_secs}s')\n",
    "    print(f'\\tTrain Loss: {train_loss:.3f} | Train PPL: {math.exp(train_loss):7.3f}')\n",
    "    print(f'\\t Val. Loss: {valid_loss:.3f} |  Val. PPL: {math.exp(valid_loss):7.3f}')"
   ]
  },
  {
   "cell_type": "code",
   "execution_count": 44,
   "id": "dfb02ad8",
   "metadata": {
    "execution": {
     "iopub.execute_input": "2023-04-15T22:02:46.092230Z",
     "iopub.status.busy": "2023-04-15T22:02:46.091636Z",
     "iopub.status.idle": "2023-04-15T22:09:02.318624Z",
     "shell.execute_reply": "2023-04-15T22:09:02.317483Z"
    },
    "papermill": {
     "duration": 378.828803,
     "end_time": "2023-04-15T22:09:02.323869",
     "exception": false,
     "start_time": "2023-04-15T22:02:43.495066",
     "status": "completed"
    },
    "tags": []
   },
   "outputs": [
    {
     "name": "stderr",
     "output_type": "stream",
     "text": [
      "100%|██████████| 1436/1436 [06:16<00:00,  3.82it/s]"
     ]
    },
    {
     "name": "stdout",
     "output_type": "stream",
     "text": [
      "| Test Loss: 0.818 | Test PPL:   2.267 |\n"
     ]
    },
    {
     "name": "stderr",
     "output_type": "stream",
     "text": [
      "\n"
     ]
    }
   ],
   "source": [
    "model.load_state_dict(torch.load(MODEL_PATH))\n",
    "test_loss = evaluate(model, test_loader, criterion)\n",
    "print(f'| Test Loss: {test_loss:.3f} | Test PPL: {math.exp(test_loss):7.3f} |')"
   ]
  },
  {
   "cell_type": "code",
   "execution_count": 45,
   "id": "b91b0eed",
   "metadata": {
    "execution": {
     "iopub.execute_input": "2023-04-15T22:09:07.641899Z",
     "iopub.status.busy": "2023-04-15T22:09:07.640870Z",
     "iopub.status.idle": "2023-04-15T22:09:08.676594Z",
     "shell.execute_reply": "2023-04-15T22:09:08.675575Z"
    },
    "papermill": {
     "duration": 3.612813,
     "end_time": "2023-04-15T22:09:08.679037",
     "exception": false,
     "start_time": "2023-04-15T22:09:05.066224",
     "status": "completed"
    },
    "tags": []
   },
   "outputs": [
    {
     "data": {
      "text/html": [
       "<div>\n",
       "<style scoped>\n",
       "    .dataframe tbody tr th:only-of-type {\n",
       "        vertical-align: middle;\n",
       "    }\n",
       "\n",
       "    .dataframe tbody tr th {\n",
       "        vertical-align: top;\n",
       "    }\n",
       "\n",
       "    .dataframe thead th {\n",
       "        text-align: right;\n",
       "    }\n",
       "</style>\n",
       "<table border=\"1\" class=\"dataframe\">\n",
       "  <thead>\n",
       "    <tr style=\"text-align: right;\">\n",
       "      <th></th>\n",
       "      <th>article</th>\n",
       "      <th>highlights</th>\n",
       "    </tr>\n",
       "  </thead>\n",
       "  <tbody>\n",
       "    <tr>\n",
       "      <th>0</th>\n",
       "      <td>Ever noticed how plane seats appear to be gett...</td>\n",
       "      <td>Experts question if  packed out planes are put...</td>\n",
       "    </tr>\n",
       "    <tr>\n",
       "      <th>1</th>\n",
       "      <td>A drunk teenage boy had to be rescued by secur...</td>\n",
       "      <td>Drunk teenage boy climbed into lion enclosure ...</td>\n",
       "    </tr>\n",
       "    <tr>\n",
       "      <th>2</th>\n",
       "      <td>Dougie Freedman is on the verge of agreeing a ...</td>\n",
       "      <td>Nottingham Forest are close to extending Dougi...</td>\n",
       "    </tr>\n",
       "    <tr>\n",
       "      <th>3</th>\n",
       "      <td>Liverpool target Neto is also wanted by PSG an...</td>\n",
       "      <td>Fiorentina goalkeeper Neto has been linked wit...</td>\n",
       "    </tr>\n",
       "    <tr>\n",
       "      <th>4</th>\n",
       "      <td>Bruce Jenner will break his silence in a two-h...</td>\n",
       "      <td>Tell-all interview with the reality TV star, 6...</td>\n",
       "    </tr>\n",
       "    <tr>\n",
       "      <th>...</th>\n",
       "      <td>...</td>\n",
       "      <td>...</td>\n",
       "    </tr>\n",
       "    <tr>\n",
       "      <th>11485</th>\n",
       "      <td>Our young Earth may have collided with a body ...</td>\n",
       "      <td>Oxford scientists say a Mercury-like body stru...</td>\n",
       "    </tr>\n",
       "    <tr>\n",
       "      <th>11486</th>\n",
       "      <td>A man facing trial for helping his former love...</td>\n",
       "      <td>Man accused of helping former lover kill woman...</td>\n",
       "    </tr>\n",
       "    <tr>\n",
       "      <th>11487</th>\n",
       "      <td>A dozen or more metal implements are arranged ...</td>\n",
       "      <td>Marianne Power tried the tuning fork facial at...</td>\n",
       "    </tr>\n",
       "    <tr>\n",
       "      <th>11488</th>\n",
       "      <td>Brook Lopez dominated twin brother Robin with ...</td>\n",
       "      <td>Brooklyn Nets beat the Portland Trail Blazers ...</td>\n",
       "    </tr>\n",
       "    <tr>\n",
       "      <th>11489</th>\n",
       "      <td>A Chinese hospital is being painstakingly move...</td>\n",
       "      <td>Chinese hospital marked for demolition because...</td>\n",
       "    </tr>\n",
       "  </tbody>\n",
       "</table>\n",
       "<p>11490 rows × 2 columns</p>\n",
       "</div>"
      ],
      "text/plain": [
       "                                                 article  \\\n",
       "0      Ever noticed how plane seats appear to be gett...   \n",
       "1      A drunk teenage boy had to be rescued by secur...   \n",
       "2      Dougie Freedman is on the verge of agreeing a ...   \n",
       "3      Liverpool target Neto is also wanted by PSG an...   \n",
       "4      Bruce Jenner will break his silence in a two-h...   \n",
       "...                                                  ...   \n",
       "11485  Our young Earth may have collided with a body ...   \n",
       "11486  A man facing trial for helping his former love...   \n",
       "11487  A dozen or more metal implements are arranged ...   \n",
       "11488  Brook Lopez dominated twin brother Robin with ...   \n",
       "11489  A Chinese hospital is being painstakingly move...   \n",
       "\n",
       "                                              highlights  \n",
       "0      Experts question if  packed out planes are put...  \n",
       "1      Drunk teenage boy climbed into lion enclosure ...  \n",
       "2      Nottingham Forest are close to extending Dougi...  \n",
       "3      Fiorentina goalkeeper Neto has been linked wit...  \n",
       "4      Tell-all interview with the reality TV star, 6...  \n",
       "...                                                  ...  \n",
       "11485  Oxford scientists say a Mercury-like body stru...  \n",
       "11486  Man accused of helping former lover kill woman...  \n",
       "11487  Marianne Power tried the tuning fork facial at...  \n",
       "11488  Brooklyn Nets beat the Portland Trail Blazers ...  \n",
       "11489  Chinese hospital marked for demolition because...  \n",
       "\n",
       "[11490 rows x 2 columns]"
      ]
     },
     "execution_count": 45,
     "metadata": {},
     "output_type": "execute_result"
    }
   ],
   "source": [
    "df_test = pd.read_csv(\"/kaggle/input/newspaper-text-summarization-cnn-dailymail/cnn_dailymail/test.csv\").drop(columns=\"id\")\n",
    "df_test"
   ]
  },
  {
   "cell_type": "code",
   "execution_count": 46,
   "id": "cd21329e",
   "metadata": {
    "execution": {
     "iopub.execute_input": "2023-04-15T22:09:14.046847Z",
     "iopub.status.busy": "2023-04-15T22:09:14.046453Z",
     "iopub.status.idle": "2023-04-15T22:09:14.059236Z",
     "shell.execute_reply": "2023-04-15T22:09:14.058508Z"
    },
    "papermill": {
     "duration": 2.690669,
     "end_time": "2023-04-15T22:09:14.061160",
     "exception": false,
     "start_time": "2023-04-15T22:09:11.370491",
     "status": "completed"
    },
    "tags": []
   },
   "outputs": [
    {
     "data": {
      "text/plain": [
       "'26 year old man hacked death relatives trivial row car parking medimallasandra near hoskote incident happened sunday deceased identified ismail khan accused run according police deceased accused property dispute long time sunday heated argument ensued car parking melee accused stabbed ismail repeatedly killing spot accused soon fled scene anugondanahalli police rushed spot conducted spot inspection shifting body post mortem police registered case murder efforts track accused'"
      ]
     },
     "execution_count": 46,
     "metadata": {},
     "output_type": "execute_result"
    }
   ],
   "source": [
    "test_article = \"A 26-year-old man was hacked to death by his relatives over a trivial row on car parking in Medimallasandra near Hoskote. The incident happened on Sunday. The deceased has been identified as Ismail Khan, while the accused are on the run.According to the police, the deceased and the accused had a property dispute for a long time. On Sunday, a heated argument ensued over car parking. In the melee, the accused stabbed Ismail repeatedly, killing him on the spot. The accused soon fled the scene.The Anugondanahalli police rushed to the spot and conducted spot inspection before shifting the body for post-mortem. The police have registered a case of murder and efforts are on to track down the accused.\"\n",
    "test_text_cleaned = clean_text(test_article)\n",
    "test_text_cleaned"
   ]
  },
  {
   "cell_type": "code",
   "execution_count": 47,
   "id": "a3a19b04",
   "metadata": {
    "execution": {
     "iopub.execute_input": "2023-04-15T22:09:19.381920Z",
     "iopub.status.busy": "2023-04-15T22:09:19.381431Z",
     "iopub.status.idle": "2023-04-15T22:09:19.393690Z",
     "shell.execute_reply": "2023-04-15T22:09:19.392633Z"
    },
    "papermill": {
     "duration": 2.715215,
     "end_time": "2023-04-15T22:09:19.396129",
     "exception": false,
     "start_time": "2023-04-15T22:09:16.680914",
     "status": "completed"
    },
    "tags": []
   },
   "outputs": [
    {
     "data": {
      "text/plain": [
       "tensor([[ 4732,   149,   150,  2528,  8439,   390,  5149, 18722,  2914,   361,\n",
       "          6464,     0,   489,     0,  1418,  1719, 79258, 22771,  1951,     0,\n",
       "             0,  1079,   647,   210,   182, 22771,  1079,   303,  2677,   515,\n",
       "            91, 79258, 11918,  3404, 34582,   361,  6464, 33617,  1079,  4428,\n",
       "             0, 12839,  2737,  2426,  1079,  2953,  2788,  2701,     0,   182,\n",
       "           618,  2426,  2705,  2426,  5295,  2217,  2707,   777,  6283,   182,\n",
       "         10591,   555,   159,  4710,  6172,  1079]], device='cuda:0')"
      ]
     },
     "execution_count": 47,
     "metadata": {},
     "output_type": "execute_result"
    }
   ],
   "source": [
    "test_article_tensor = torch.tensor([[articles_vocab[token] for token in tokenizer(test_text_cleaned)]],\n",
    "                            dtype=torch.long, device=device)\n",
    "test_article_tensor"
   ]
  },
  {
   "cell_type": "code",
   "execution_count": 48,
   "id": "11746ff5",
   "metadata": {
    "execution": {
     "iopub.execute_input": "2023-04-15T22:09:25.104348Z",
     "iopub.status.busy": "2023-04-15T22:09:25.103952Z",
     "iopub.status.idle": "2023-04-15T22:09:25.113988Z",
     "shell.execute_reply": "2023-04-15T22:09:25.112698Z"
    },
    "papermill": {
     "duration": 3.10295,
     "end_time": "2023-04-15T22:09:25.117070",
     "exception": false,
     "start_time": "2023-04-15T22:09:22.014120",
     "status": "completed"
    },
    "tags": []
   },
   "outputs": [
    {
     "data": {
      "text/plain": [
       "tensor([[2, 2, 2, 2, 2, 2, 2, 2, 2, 2, 2, 2, 2, 2, 2, 2, 2, 2, 2, 2]],\n",
       "       device='cuda:0')"
      ]
     },
     "execution_count": 48,
     "metadata": {},
     "output_type": "execute_result"
    }
   ],
   "source": [
    "decoder_start_tensor = torch.tensor([[highlights_vocab['<bos>']]], device=device)\n",
    "decoder_start_tensor = decoder_start_tensor.repeat(1, 20)\n",
    "decoder_start_tensor"
   ]
  },
  {
   "cell_type": "code",
   "execution_count": 49,
   "id": "553e789b",
   "metadata": {
    "execution": {
     "iopub.execute_input": "2023-04-15T22:09:30.466054Z",
     "iopub.status.busy": "2023-04-15T22:09:30.465691Z",
     "iopub.status.idle": "2023-04-15T22:09:30.472123Z",
     "shell.execute_reply": "2023-04-15T22:09:30.471153Z"
    },
    "papermill": {
     "duration": 2.702151,
     "end_time": "2023-04-15T22:09:30.474431",
     "exception": false,
     "start_time": "2023-04-15T22:09:27.772280",
     "status": "completed"
    },
    "tags": []
   },
   "outputs": [
    {
     "data": {
      "text/plain": [
       "(torch.Size([1, 66]), torch.Size([1, 20]))"
      ]
     },
     "execution_count": 49,
     "metadata": {},
     "output_type": "execute_result"
    }
   ],
   "source": [
    "test_article_tensor.size(), decoder_start_tensor.size()"
   ]
  },
  {
   "cell_type": "code",
   "execution_count": 50,
   "id": "22fcb60e",
   "metadata": {
    "execution": {
     "iopub.execute_input": "2023-04-15T22:09:35.819689Z",
     "iopub.status.busy": "2023-04-15T22:09:35.819073Z",
     "iopub.status.idle": "2023-04-15T22:09:35.826287Z",
     "shell.execute_reply": "2023-04-15T22:09:35.825297Z"
    },
    "papermill": {
     "duration": 2.739964,
     "end_time": "2023-04-15T22:09:35.828572",
     "exception": false,
     "start_time": "2023-04-15T22:09:33.088608",
     "status": "completed"
    },
    "tags": []
   },
   "outputs": [
    {
     "data": {
      "text/plain": [
       "(torch.Size([66, 1]), torch.Size([20, 1]))"
      ]
     },
     "execution_count": 50,
     "metadata": {},
     "output_type": "execute_result"
    }
   ],
   "source": [
    "test_article_tensor = test_article_tensor.permute(1, 0)\n",
    "decoder_start_tensor = decoder_start_tensor.permute(1, 0)\n",
    "test_article_tensor.size(), decoder_start_tensor.size()"
   ]
  },
  {
   "cell_type": "code",
   "execution_count": 51,
   "id": "04deda6f",
   "metadata": {
    "execution": {
     "iopub.execute_input": "2023-04-15T22:09:41.093487Z",
     "iopub.status.busy": "2023-04-15T22:09:41.092525Z",
     "iopub.status.idle": "2023-04-15T22:09:41.120274Z",
     "shell.execute_reply": "2023-04-15T22:09:41.119090Z"
    },
    "papermill": {
     "duration": 2.767894,
     "end_time": "2023-04-15T22:09:41.122798",
     "exception": false,
     "start_time": "2023-04-15T22:09:38.354904",
     "status": "completed"
    },
    "tags": []
   },
   "outputs": [],
   "source": [
    "output = model(test_article_tensor, decoder_start_tensor, 0) #turn off teacher forcing"
   ]
  },
  {
   "cell_type": "code",
   "execution_count": 52,
   "id": "126f899f",
   "metadata": {
    "execution": {
     "iopub.execute_input": "2023-04-15T22:09:46.563556Z",
     "iopub.status.busy": "2023-04-15T22:09:46.562891Z",
     "iopub.status.idle": "2023-04-15T22:09:46.583755Z",
     "shell.execute_reply": "2023-04-15T22:09:46.582733Z"
    },
    "papermill": {
     "duration": 2.817641,
     "end_time": "2023-04-15T22:09:46.585857",
     "exception": false,
     "start_time": "2023-04-15T22:09:43.768216",
     "status": "completed"
    },
    "tags": []
   },
   "outputs": [
    {
     "data": {
      "text/plain": [
       "tensor([[[  0.0000,   0.0000,   0.0000,  ...,   0.0000,   0.0000,   0.0000]],\n",
       "\n",
       "        [[  9.6117,  -9.2277,  -9.4205,  ...,  -5.1524,  -6.1402,  -7.6929]],\n",
       "\n",
       "        [[  6.1524,  -9.5750,  -9.4754,  ...,  -7.1218,  -7.8977,  -7.9713]],\n",
       "\n",
       "        ...,\n",
       "\n",
       "        [[  6.6979, -11.7689, -11.9391,  ...,  -6.8066,  -9.2914, -10.4182]],\n",
       "\n",
       "        [[  6.1478, -12.9811, -13.2385,  ...,  -8.7629, -10.3118, -11.3260]],\n",
       "\n",
       "        [[  6.7741, -12.8686, -13.0602,  ...,  -7.3682, -10.0626, -11.3152]]],\n",
       "       device='cuda:0', grad_fn=<CopySlices>)"
      ]
     },
     "execution_count": 52,
     "metadata": {},
     "output_type": "execute_result"
    }
   ],
   "source": [
    "output"
   ]
  },
  {
   "cell_type": "code",
   "execution_count": 53,
   "id": "578cb2f6",
   "metadata": {
    "execution": {
     "iopub.execute_input": "2023-04-15T22:09:51.794747Z",
     "iopub.status.busy": "2023-04-15T22:09:51.794344Z",
     "iopub.status.idle": "2023-04-15T22:09:51.800758Z",
     "shell.execute_reply": "2023-04-15T22:09:51.799801Z"
    },
    "papermill": {
     "duration": 2.722434,
     "end_time": "2023-04-15T22:09:51.802734",
     "exception": false,
     "start_time": "2023-04-15T22:09:49.080300",
     "status": "completed"
    },
    "tags": []
   },
   "outputs": [
    {
     "data": {
      "text/plain": [
       "torch.Size([20, 1, 37493])"
      ]
     },
     "execution_count": 53,
     "metadata": {},
     "output_type": "execute_result"
    }
   ],
   "source": [
    "output.size()"
   ]
  },
  {
   "cell_type": "code",
   "execution_count": 54,
   "id": "7503c1e2",
   "metadata": {
    "execution": {
     "iopub.execute_input": "2023-04-15T22:09:57.530806Z",
     "iopub.status.busy": "2023-04-15T22:09:57.530427Z",
     "iopub.status.idle": "2023-04-15T22:09:57.535173Z",
     "shell.execute_reply": "2023-04-15T22:09:57.534183Z"
    },
    "papermill": {
     "duration": 2.962705,
     "end_time": "2023-04-15T22:09:57.537206",
     "exception": false,
     "start_time": "2023-04-15T22:09:54.574501",
     "status": "completed"
    },
    "tags": []
   },
   "outputs": [],
   "source": [
    "output = output.squeeze(1)"
   ]
  },
  {
   "cell_type": "code",
   "execution_count": 55,
   "id": "5a832d37",
   "metadata": {
    "execution": {
     "iopub.execute_input": "2023-04-15T22:10:02.975745Z",
     "iopub.status.busy": "2023-04-15T22:10:02.975364Z",
     "iopub.status.idle": "2023-04-15T22:10:02.981593Z",
     "shell.execute_reply": "2023-04-15T22:10:02.980607Z"
    },
    "papermill": {
     "duration": 2.842551,
     "end_time": "2023-04-15T22:10:02.983665",
     "exception": false,
     "start_time": "2023-04-15T22:10:00.141114",
     "status": "completed"
    },
    "tags": []
   },
   "outputs": [
    {
     "data": {
      "text/plain": [
       "torch.Size([20, 37493])"
      ]
     },
     "execution_count": 55,
     "metadata": {},
     "output_type": "execute_result"
    }
   ],
   "source": [
    "output.size()"
   ]
  },
  {
   "cell_type": "code",
   "execution_count": 56,
   "id": "3e6f65b4",
   "metadata": {
    "execution": {
     "iopub.execute_input": "2023-04-15T22:10:08.120534Z",
     "iopub.status.busy": "2023-04-15T22:10:08.120174Z",
     "iopub.status.idle": "2023-04-15T22:10:08.133899Z",
     "shell.execute_reply": "2023-04-15T22:10:08.132957Z"
    },
    "papermill": {
     "duration": 2.655941,
     "end_time": "2023-04-15T22:10:08.136029",
     "exception": false,
     "start_time": "2023-04-15T22:10:05.480088",
     "status": "completed"
    },
    "tags": []
   },
   "outputs": [],
   "source": [
    "decoded_words = []\n",
    "itos = highlights_vocab.get_itos()\n",
    "for ot in range(output.size(0)):\n",
    "    topv, topi = output[ot].topk(1)\n",
    "    #print(topi)\n",
    "    decoded_words.append(itos[topi[0].item()])"
   ]
  },
  {
   "cell_type": "code",
   "execution_count": 57,
   "id": "12b6d09a",
   "metadata": {
    "execution": {
     "iopub.execute_input": "2023-04-15T22:10:13.588834Z",
     "iopub.status.busy": "2023-04-15T22:10:13.588458Z",
     "iopub.status.idle": "2023-04-15T22:10:13.595475Z",
     "shell.execute_reply": "2023-04-15T22:10:13.594053Z"
    },
    "papermill": {
     "duration": 2.839221,
     "end_time": "2023-04-15T22:10:13.597712",
     "exception": false,
     "start_time": "2023-04-15T22:10:10.758491",
     "status": "completed"
    },
    "tags": []
   },
   "outputs": [
    {
     "data": {
      "text/plain": [
       "['<unk>',\n",
       " 'Police',\n",
       " 'officer',\n",
       " 'accused',\n",
       " 'of',\n",
       " 'racial',\n",
       " 'slur',\n",
       " 'outside',\n",
       " 'the',\n",
       " 'scene',\n",
       " '.',\n",
       " '\\n',\n",
       " 'Police',\n",
       " 'allegedly',\n",
       " 'racially',\n",
       " 'assaulted',\n",
       " 'the',\n",
       " 'scene',\n",
       " 'of',\n",
       " 'the']"
      ]
     },
     "execution_count": 57,
     "metadata": {},
     "output_type": "execute_result"
    }
   ],
   "source": [
    "decoded_words"
   ]
  },
  {
   "cell_type": "code",
   "execution_count": null,
   "id": "c3d558ed",
   "metadata": {
    "papermill": {
     "duration": 2.745979,
     "end_time": "2023-04-15T22:10:19.074475",
     "exception": false,
     "start_time": "2023-04-15T22:10:16.328496",
     "status": "completed"
    },
    "tags": []
   },
   "outputs": [],
   "source": []
  }
 ],
 "metadata": {
  "kernelspec": {
   "display_name": "Python 3",
   "language": "python",
   "name": "python3"
  },
  "language_info": {
   "codemirror_mode": {
    "name": "ipython",
    "version": 3
   },
   "file_extension": ".py",
   "mimetype": "text/x-python",
   "name": "python",
   "nbconvert_exporter": "python",
   "pygments_lexer": "ipython3",
   "version": "3.7.12"
  },
  "papermill": {
   "default_parameters": {},
   "duration": 24190.593775,
   "end_time": "2023-04-15T22:10:25.554828",
   "environment_variables": {},
   "exception": null,
   "input_path": "__notebook__.ipynb",
   "output_path": "__notebook__.ipynb",
   "parameters": {},
   "start_time": "2023-04-15T15:27:14.961053",
   "version": "2.4.0"
  }
 },
 "nbformat": 4,
 "nbformat_minor": 5
}
